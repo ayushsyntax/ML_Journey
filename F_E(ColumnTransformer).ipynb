{
  "nbformat": 4,
  "nbformat_minor": 0,
  "metadata": {
    "colab": {
      "provenance": [],
      "authorship_tag": "ABX9TyNu+FJ1ygtNpx2UPHH9Y6Hs",
      "include_colab_link": true
    },
    "kernelspec": {
      "name": "python3",
      "display_name": "Python 3"
    },
    "language_info": {
      "name": "python"
    }
  },
  "cells": [
    {
      "cell_type": "markdown",
      "metadata": {
        "id": "view-in-github",
        "colab_type": "text"
      },
      "source": [
        "<a href=\"https://colab.research.google.com/github/ayushsyntax/ML_Journey/blob/main/F_E(ColumnTransformer).ipynb\" target=\"_parent\"><img src=\"https://colab.research.google.com/assets/colab-badge.svg\" alt=\"Open In Colab\"/></a>"
      ]
    },
    {
      "cell_type": "code",
      "execution_count": 1,
      "metadata": {
        "id": "ox3Q5Kyy4lyp"
      },
      "outputs": [],
      "source": [
        "import pandas as pd\n",
        "import numpy as np"
      ]
    },
    {
      "cell_type": "code",
      "source": [
        "from sklearn.impute import SimpleImputer\n",
        "from sklearn.preprocessing import OneHotEncoder\n",
        "from sklearn.preprocessing import OrdinalEncoder\n",
        "from sklearn.preprocessing import StandardScaler\n",
        "from sklearn.compose import ColumnTransformer\n",
        "from sklearn.pipeline import Pipeline"
      ],
      "metadata": {
        "id": "EsgKZ7rh6tTH"
      },
      "execution_count": 12,
      "outputs": []
    },
    {
      "cell_type": "code",
      "source": [
        "df = pd.read_csv('covid_toy.csv')"
      ],
      "metadata": {
        "id": "YGGsVgjh617p"
      },
      "execution_count": 3,
      "outputs": []
    },
    {
      "cell_type": "code",
      "source": [
        "df.head()"
      ],
      "metadata": {
        "colab": {
          "base_uri": "https://localhost:8080/",
          "height": 206
        },
        "id": "XfxlQ3Fz7IJA",
        "outputId": "68218ba8-2ffa-46bf-da3f-f6e6a75cc22a"
      },
      "execution_count": 4,
      "outputs": [
        {
          "output_type": "execute_result",
          "data": {
            "text/plain": [
              "   age  gender  fever cough     city has_covid\n",
              "0   60    Male  103.0  Mild  Kolkata        No\n",
              "1   27    Male  100.0  Mild    Delhi       Yes\n",
              "2   42    Male  101.0  Mild    Delhi        No\n",
              "3   31  Female   98.0  Mild  Kolkata        No\n",
              "4   65  Female  101.0  Mild   Mumbai        No"
            ],
            "text/html": [
              "\n",
              "  <div id=\"df-0eefc2e1-0e0d-4b0d-8c3e-9b620594f767\" class=\"colab-df-container\">\n",
              "    <div>\n",
              "<style scoped>\n",
              "    .dataframe tbody tr th:only-of-type {\n",
              "        vertical-align: middle;\n",
              "    }\n",
              "\n",
              "    .dataframe tbody tr th {\n",
              "        vertical-align: top;\n",
              "    }\n",
              "\n",
              "    .dataframe thead th {\n",
              "        text-align: right;\n",
              "    }\n",
              "</style>\n",
              "<table border=\"1\" class=\"dataframe\">\n",
              "  <thead>\n",
              "    <tr style=\"text-align: right;\">\n",
              "      <th></th>\n",
              "      <th>age</th>\n",
              "      <th>gender</th>\n",
              "      <th>fever</th>\n",
              "      <th>cough</th>\n",
              "      <th>city</th>\n",
              "      <th>has_covid</th>\n",
              "    </tr>\n",
              "  </thead>\n",
              "  <tbody>\n",
              "    <tr>\n",
              "      <th>0</th>\n",
              "      <td>60</td>\n",
              "      <td>Male</td>\n",
              "      <td>103.0</td>\n",
              "      <td>Mild</td>\n",
              "      <td>Kolkata</td>\n",
              "      <td>No</td>\n",
              "    </tr>\n",
              "    <tr>\n",
              "      <th>1</th>\n",
              "      <td>27</td>\n",
              "      <td>Male</td>\n",
              "      <td>100.0</td>\n",
              "      <td>Mild</td>\n",
              "      <td>Delhi</td>\n",
              "      <td>Yes</td>\n",
              "    </tr>\n",
              "    <tr>\n",
              "      <th>2</th>\n",
              "      <td>42</td>\n",
              "      <td>Male</td>\n",
              "      <td>101.0</td>\n",
              "      <td>Mild</td>\n",
              "      <td>Delhi</td>\n",
              "      <td>No</td>\n",
              "    </tr>\n",
              "    <tr>\n",
              "      <th>3</th>\n",
              "      <td>31</td>\n",
              "      <td>Female</td>\n",
              "      <td>98.0</td>\n",
              "      <td>Mild</td>\n",
              "      <td>Kolkata</td>\n",
              "      <td>No</td>\n",
              "    </tr>\n",
              "    <tr>\n",
              "      <th>4</th>\n",
              "      <td>65</td>\n",
              "      <td>Female</td>\n",
              "      <td>101.0</td>\n",
              "      <td>Mild</td>\n",
              "      <td>Mumbai</td>\n",
              "      <td>No</td>\n",
              "    </tr>\n",
              "  </tbody>\n",
              "</table>\n",
              "</div>\n",
              "    <div class=\"colab-df-buttons\">\n",
              "\n",
              "  <div class=\"colab-df-container\">\n",
              "    <button class=\"colab-df-convert\" onclick=\"convertToInteractive('df-0eefc2e1-0e0d-4b0d-8c3e-9b620594f767')\"\n",
              "            title=\"Convert this dataframe to an interactive table.\"\n",
              "            style=\"display:none;\">\n",
              "\n",
              "  <svg xmlns=\"http://www.w3.org/2000/svg\" height=\"24px\" viewBox=\"0 -960 960 960\">\n",
              "    <path d=\"M120-120v-720h720v720H120Zm60-500h600v-160H180v160Zm220 220h160v-160H400v160Zm0 220h160v-160H400v160ZM180-400h160v-160H180v160Zm440 0h160v-160H620v160ZM180-180h160v-160H180v160Zm440 0h160v-160H620v160Z\"/>\n",
              "  </svg>\n",
              "    </button>\n",
              "\n",
              "  <style>\n",
              "    .colab-df-container {\n",
              "      display:flex;\n",
              "      gap: 12px;\n",
              "    }\n",
              "\n",
              "    .colab-df-convert {\n",
              "      background-color: #E8F0FE;\n",
              "      border: none;\n",
              "      border-radius: 50%;\n",
              "      cursor: pointer;\n",
              "      display: none;\n",
              "      fill: #1967D2;\n",
              "      height: 32px;\n",
              "      padding: 0 0 0 0;\n",
              "      width: 32px;\n",
              "    }\n",
              "\n",
              "    .colab-df-convert:hover {\n",
              "      background-color: #E2EBFA;\n",
              "      box-shadow: 0px 1px 2px rgba(60, 64, 67, 0.3), 0px 1px 3px 1px rgba(60, 64, 67, 0.15);\n",
              "      fill: #174EA6;\n",
              "    }\n",
              "\n",
              "    .colab-df-buttons div {\n",
              "      margin-bottom: 4px;\n",
              "    }\n",
              "\n",
              "    [theme=dark] .colab-df-convert {\n",
              "      background-color: #3B4455;\n",
              "      fill: #D2E3FC;\n",
              "    }\n",
              "\n",
              "    [theme=dark] .colab-df-convert:hover {\n",
              "      background-color: #434B5C;\n",
              "      box-shadow: 0px 1px 3px 1px rgba(0, 0, 0, 0.15);\n",
              "      filter: drop-shadow(0px 1px 2px rgba(0, 0, 0, 0.3));\n",
              "      fill: #FFFFFF;\n",
              "    }\n",
              "  </style>\n",
              "\n",
              "    <script>\n",
              "      const buttonEl =\n",
              "        document.querySelector('#df-0eefc2e1-0e0d-4b0d-8c3e-9b620594f767 button.colab-df-convert');\n",
              "      buttonEl.style.display =\n",
              "        google.colab.kernel.accessAllowed ? 'block' : 'none';\n",
              "\n",
              "      async function convertToInteractive(key) {\n",
              "        const element = document.querySelector('#df-0eefc2e1-0e0d-4b0d-8c3e-9b620594f767');\n",
              "        const dataTable =\n",
              "          await google.colab.kernel.invokeFunction('convertToInteractive',\n",
              "                                                    [key], {});\n",
              "        if (!dataTable) return;\n",
              "\n",
              "        const docLinkHtml = 'Like what you see? Visit the ' +\n",
              "          '<a target=\"_blank\" href=https://colab.research.google.com/notebooks/data_table.ipynb>data table notebook</a>'\n",
              "          + ' to learn more about interactive tables.';\n",
              "        element.innerHTML = '';\n",
              "        dataTable['output_type'] = 'display_data';\n",
              "        await google.colab.output.renderOutput(dataTable, element);\n",
              "        const docLink = document.createElement('div');\n",
              "        docLink.innerHTML = docLinkHtml;\n",
              "        element.appendChild(docLink);\n",
              "      }\n",
              "    </script>\n",
              "  </div>\n",
              "\n",
              "\n",
              "<div id=\"df-74656312-7b60-4231-987f-01f61282a0d9\">\n",
              "  <button class=\"colab-df-quickchart\" onclick=\"quickchart('df-74656312-7b60-4231-987f-01f61282a0d9')\"\n",
              "            title=\"Suggest charts\"\n",
              "            style=\"display:none;\">\n",
              "\n",
              "<svg xmlns=\"http://www.w3.org/2000/svg\" height=\"24px\"viewBox=\"0 0 24 24\"\n",
              "     width=\"24px\">\n",
              "    <g>\n",
              "        <path d=\"M19 3H5c-1.1 0-2 .9-2 2v14c0 1.1.9 2 2 2h14c1.1 0 2-.9 2-2V5c0-1.1-.9-2-2-2zM9 17H7v-7h2v7zm4 0h-2V7h2v10zm4 0h-2v-4h2v4z\"/>\n",
              "    </g>\n",
              "</svg>\n",
              "  </button>\n",
              "\n",
              "<style>\n",
              "  .colab-df-quickchart {\n",
              "      --bg-color: #E8F0FE;\n",
              "      --fill-color: #1967D2;\n",
              "      --hover-bg-color: #E2EBFA;\n",
              "      --hover-fill-color: #174EA6;\n",
              "      --disabled-fill-color: #AAA;\n",
              "      --disabled-bg-color: #DDD;\n",
              "  }\n",
              "\n",
              "  [theme=dark] .colab-df-quickchart {\n",
              "      --bg-color: #3B4455;\n",
              "      --fill-color: #D2E3FC;\n",
              "      --hover-bg-color: #434B5C;\n",
              "      --hover-fill-color: #FFFFFF;\n",
              "      --disabled-bg-color: #3B4455;\n",
              "      --disabled-fill-color: #666;\n",
              "  }\n",
              "\n",
              "  .colab-df-quickchart {\n",
              "    background-color: var(--bg-color);\n",
              "    border: none;\n",
              "    border-radius: 50%;\n",
              "    cursor: pointer;\n",
              "    display: none;\n",
              "    fill: var(--fill-color);\n",
              "    height: 32px;\n",
              "    padding: 0;\n",
              "    width: 32px;\n",
              "  }\n",
              "\n",
              "  .colab-df-quickchart:hover {\n",
              "    background-color: var(--hover-bg-color);\n",
              "    box-shadow: 0 1px 2px rgba(60, 64, 67, 0.3), 0 1px 3px 1px rgba(60, 64, 67, 0.15);\n",
              "    fill: var(--button-hover-fill-color);\n",
              "  }\n",
              "\n",
              "  .colab-df-quickchart-complete:disabled,\n",
              "  .colab-df-quickchart-complete:disabled:hover {\n",
              "    background-color: var(--disabled-bg-color);\n",
              "    fill: var(--disabled-fill-color);\n",
              "    box-shadow: none;\n",
              "  }\n",
              "\n",
              "  .colab-df-spinner {\n",
              "    border: 2px solid var(--fill-color);\n",
              "    border-color: transparent;\n",
              "    border-bottom-color: var(--fill-color);\n",
              "    animation:\n",
              "      spin 1s steps(1) infinite;\n",
              "  }\n",
              "\n",
              "  @keyframes spin {\n",
              "    0% {\n",
              "      border-color: transparent;\n",
              "      border-bottom-color: var(--fill-color);\n",
              "      border-left-color: var(--fill-color);\n",
              "    }\n",
              "    20% {\n",
              "      border-color: transparent;\n",
              "      border-left-color: var(--fill-color);\n",
              "      border-top-color: var(--fill-color);\n",
              "    }\n",
              "    30% {\n",
              "      border-color: transparent;\n",
              "      border-left-color: var(--fill-color);\n",
              "      border-top-color: var(--fill-color);\n",
              "      border-right-color: var(--fill-color);\n",
              "    }\n",
              "    40% {\n",
              "      border-color: transparent;\n",
              "      border-right-color: var(--fill-color);\n",
              "      border-top-color: var(--fill-color);\n",
              "    }\n",
              "    60% {\n",
              "      border-color: transparent;\n",
              "      border-right-color: var(--fill-color);\n",
              "    }\n",
              "    80% {\n",
              "      border-color: transparent;\n",
              "      border-right-color: var(--fill-color);\n",
              "      border-bottom-color: var(--fill-color);\n",
              "    }\n",
              "    90% {\n",
              "      border-color: transparent;\n",
              "      border-bottom-color: var(--fill-color);\n",
              "    }\n",
              "  }\n",
              "</style>\n",
              "\n",
              "  <script>\n",
              "    async function quickchart(key) {\n",
              "      const quickchartButtonEl =\n",
              "        document.querySelector('#' + key + ' button');\n",
              "      quickchartButtonEl.disabled = true;  // To prevent multiple clicks.\n",
              "      quickchartButtonEl.classList.add('colab-df-spinner');\n",
              "      try {\n",
              "        const charts = await google.colab.kernel.invokeFunction(\n",
              "            'suggestCharts', [key], {});\n",
              "      } catch (error) {\n",
              "        console.error('Error during call to suggestCharts:', error);\n",
              "      }\n",
              "      quickchartButtonEl.classList.remove('colab-df-spinner');\n",
              "      quickchartButtonEl.classList.add('colab-df-quickchart-complete');\n",
              "    }\n",
              "    (() => {\n",
              "      let quickchartButtonEl =\n",
              "        document.querySelector('#df-74656312-7b60-4231-987f-01f61282a0d9 button');\n",
              "      quickchartButtonEl.style.display =\n",
              "        google.colab.kernel.accessAllowed ? 'block' : 'none';\n",
              "    })();\n",
              "  </script>\n",
              "</div>\n",
              "\n",
              "    </div>\n",
              "  </div>\n"
            ],
            "application/vnd.google.colaboratory.intrinsic+json": {
              "type": "dataframe",
              "variable_name": "df",
              "summary": "{\n  \"name\": \"df\",\n  \"rows\": 100,\n  \"fields\": [\n    {\n      \"column\": \"age\",\n      \"properties\": {\n        \"dtype\": \"number\",\n        \"std\": 24,\n        \"min\": 5,\n        \"max\": 84,\n        \"num_unique_values\": 55,\n        \"samples\": [\n          55,\n          84,\n          49\n        ],\n        \"semantic_type\": \"\",\n        \"description\": \"\"\n      }\n    },\n    {\n      \"column\": \"gender\",\n      \"properties\": {\n        \"dtype\": \"category\",\n        \"num_unique_values\": 2,\n        \"samples\": [\n          \"Female\",\n          \"Male\"\n        ],\n        \"semantic_type\": \"\",\n        \"description\": \"\"\n      }\n    },\n    {\n      \"column\": \"fever\",\n      \"properties\": {\n        \"dtype\": \"number\",\n        \"std\": 2.0549261782367014,\n        \"min\": 98.0,\n        \"max\": 104.0,\n        \"num_unique_values\": 7,\n        \"samples\": [\n          103.0,\n          100.0\n        ],\n        \"semantic_type\": \"\",\n        \"description\": \"\"\n      }\n    },\n    {\n      \"column\": \"cough\",\n      \"properties\": {\n        \"dtype\": \"category\",\n        \"num_unique_values\": 2,\n        \"samples\": [\n          \"Strong\",\n          \"Mild\"\n        ],\n        \"semantic_type\": \"\",\n        \"description\": \"\"\n      }\n    },\n    {\n      \"column\": \"city\",\n      \"properties\": {\n        \"dtype\": \"category\",\n        \"num_unique_values\": 4,\n        \"samples\": [\n          \"Delhi\",\n          \"Bangalore\"\n        ],\n        \"semantic_type\": \"\",\n        \"description\": \"\"\n      }\n    },\n    {\n      \"column\": \"has_covid\",\n      \"properties\": {\n        \"dtype\": \"category\",\n        \"num_unique_values\": 2,\n        \"samples\": [\n          \"Yes\",\n          \"No\"\n        ],\n        \"semantic_type\": \"\",\n        \"description\": \"\"\n      }\n    }\n  ]\n}"
            }
          },
          "metadata": {},
          "execution_count": 4
        }
      ]
    },
    {
      "cell_type": "code",
      "source": [
        "df.isnull().sum()"
      ],
      "metadata": {
        "colab": {
          "base_uri": "https://localhost:8080/",
          "height": 272
        },
        "id": "0jqV_R8R7JyM",
        "outputId": "1e4605c5-f1eb-4693-f982-ce335fd960c3"
      },
      "execution_count": 6,
      "outputs": [
        {
          "output_type": "execute_result",
          "data": {
            "text/plain": [
              "age           0\n",
              "gender        0\n",
              "fever        10\n",
              "cough         0\n",
              "city          0\n",
              "has_covid     0\n",
              "dtype: int64"
            ],
            "text/html": [
              "<div>\n",
              "<style scoped>\n",
              "    .dataframe tbody tr th:only-of-type {\n",
              "        vertical-align: middle;\n",
              "    }\n",
              "\n",
              "    .dataframe tbody tr th {\n",
              "        vertical-align: top;\n",
              "    }\n",
              "\n",
              "    .dataframe thead th {\n",
              "        text-align: right;\n",
              "    }\n",
              "</style>\n",
              "<table border=\"1\" class=\"dataframe\">\n",
              "  <thead>\n",
              "    <tr style=\"text-align: right;\">\n",
              "      <th></th>\n",
              "      <th>0</th>\n",
              "    </tr>\n",
              "  </thead>\n",
              "  <tbody>\n",
              "    <tr>\n",
              "      <th>age</th>\n",
              "      <td>0</td>\n",
              "    </tr>\n",
              "    <tr>\n",
              "      <th>gender</th>\n",
              "      <td>0</td>\n",
              "    </tr>\n",
              "    <tr>\n",
              "      <th>fever</th>\n",
              "      <td>10</td>\n",
              "    </tr>\n",
              "    <tr>\n",
              "      <th>cough</th>\n",
              "      <td>0</td>\n",
              "    </tr>\n",
              "    <tr>\n",
              "      <th>city</th>\n",
              "      <td>0</td>\n",
              "    </tr>\n",
              "    <tr>\n",
              "      <th>has_covid</th>\n",
              "      <td>0</td>\n",
              "    </tr>\n",
              "  </tbody>\n",
              "</table>\n",
              "</div><br><label><b>dtype:</b> int64</label>"
            ]
          },
          "metadata": {},
          "execution_count": 6
        }
      ]
    },
    {
      "cell_type": "code",
      "source": [
        "from sklearn.model_selection import train_test_split\n",
        "X_train,X_test,y_train,y_test = train_test_split(df.drop(columns=['has_covid']),df['has_covid'],\n",
        "                                                test_size=0.2)"
      ],
      "metadata": {
        "id": "H_A7S3TF7MGe"
      },
      "execution_count": 7,
      "outputs": []
    },
    {
      "cell_type": "code",
      "source": [
        "X_train"
      ],
      "metadata": {
        "colab": {
          "base_uri": "https://localhost:8080/",
          "height": 423
        },
        "id": "A_4-azpq7edv",
        "outputId": "2ea1b966-018b-4b1e-f2d0-dd76f54dec26"
      },
      "execution_count": 8,
      "outputs": [
        {
          "output_type": "execute_result",
          "data": {
            "text/plain": [
              "    age  gender  fever   cough       city\n",
              "1    27    Male  100.0    Mild      Delhi\n",
              "14   51    Male  104.0    Mild  Bangalore\n",
              "84   69  Female   98.0  Strong     Mumbai\n",
              "67   65    Male   99.0    Mild  Bangalore\n",
              "3    31  Female   98.0    Mild    Kolkata\n",
              "..  ...     ...    ...     ...        ...\n",
              "7    20  Female    NaN  Strong     Mumbai\n",
              "43   22  Female   99.0    Mild  Bangalore\n",
              "58   23    Male   98.0  Strong     Mumbai\n",
              "62   56  Female  104.0  Strong  Bangalore\n",
              "95   12  Female  104.0    Mild  Bangalore\n",
              "\n",
              "[80 rows x 5 columns]"
            ],
            "text/html": [
              "\n",
              "  <div id=\"df-8c4b4adb-34a5-4a65-8020-df718342a25d\" class=\"colab-df-container\">\n",
              "    <div>\n",
              "<style scoped>\n",
              "    .dataframe tbody tr th:only-of-type {\n",
              "        vertical-align: middle;\n",
              "    }\n",
              "\n",
              "    .dataframe tbody tr th {\n",
              "        vertical-align: top;\n",
              "    }\n",
              "\n",
              "    .dataframe thead th {\n",
              "        text-align: right;\n",
              "    }\n",
              "</style>\n",
              "<table border=\"1\" class=\"dataframe\">\n",
              "  <thead>\n",
              "    <tr style=\"text-align: right;\">\n",
              "      <th></th>\n",
              "      <th>age</th>\n",
              "      <th>gender</th>\n",
              "      <th>fever</th>\n",
              "      <th>cough</th>\n",
              "      <th>city</th>\n",
              "    </tr>\n",
              "  </thead>\n",
              "  <tbody>\n",
              "    <tr>\n",
              "      <th>1</th>\n",
              "      <td>27</td>\n",
              "      <td>Male</td>\n",
              "      <td>100.0</td>\n",
              "      <td>Mild</td>\n",
              "      <td>Delhi</td>\n",
              "    </tr>\n",
              "    <tr>\n",
              "      <th>14</th>\n",
              "      <td>51</td>\n",
              "      <td>Male</td>\n",
              "      <td>104.0</td>\n",
              "      <td>Mild</td>\n",
              "      <td>Bangalore</td>\n",
              "    </tr>\n",
              "    <tr>\n",
              "      <th>84</th>\n",
              "      <td>69</td>\n",
              "      <td>Female</td>\n",
              "      <td>98.0</td>\n",
              "      <td>Strong</td>\n",
              "      <td>Mumbai</td>\n",
              "    </tr>\n",
              "    <tr>\n",
              "      <th>67</th>\n",
              "      <td>65</td>\n",
              "      <td>Male</td>\n",
              "      <td>99.0</td>\n",
              "      <td>Mild</td>\n",
              "      <td>Bangalore</td>\n",
              "    </tr>\n",
              "    <tr>\n",
              "      <th>3</th>\n",
              "      <td>31</td>\n",
              "      <td>Female</td>\n",
              "      <td>98.0</td>\n",
              "      <td>Mild</td>\n",
              "      <td>Kolkata</td>\n",
              "    </tr>\n",
              "    <tr>\n",
              "      <th>...</th>\n",
              "      <td>...</td>\n",
              "      <td>...</td>\n",
              "      <td>...</td>\n",
              "      <td>...</td>\n",
              "      <td>...</td>\n",
              "    </tr>\n",
              "    <tr>\n",
              "      <th>7</th>\n",
              "      <td>20</td>\n",
              "      <td>Female</td>\n",
              "      <td>NaN</td>\n",
              "      <td>Strong</td>\n",
              "      <td>Mumbai</td>\n",
              "    </tr>\n",
              "    <tr>\n",
              "      <th>43</th>\n",
              "      <td>22</td>\n",
              "      <td>Female</td>\n",
              "      <td>99.0</td>\n",
              "      <td>Mild</td>\n",
              "      <td>Bangalore</td>\n",
              "    </tr>\n",
              "    <tr>\n",
              "      <th>58</th>\n",
              "      <td>23</td>\n",
              "      <td>Male</td>\n",
              "      <td>98.0</td>\n",
              "      <td>Strong</td>\n",
              "      <td>Mumbai</td>\n",
              "    </tr>\n",
              "    <tr>\n",
              "      <th>62</th>\n",
              "      <td>56</td>\n",
              "      <td>Female</td>\n",
              "      <td>104.0</td>\n",
              "      <td>Strong</td>\n",
              "      <td>Bangalore</td>\n",
              "    </tr>\n",
              "    <tr>\n",
              "      <th>95</th>\n",
              "      <td>12</td>\n",
              "      <td>Female</td>\n",
              "      <td>104.0</td>\n",
              "      <td>Mild</td>\n",
              "      <td>Bangalore</td>\n",
              "    </tr>\n",
              "  </tbody>\n",
              "</table>\n",
              "<p>80 rows × 5 columns</p>\n",
              "</div>\n",
              "    <div class=\"colab-df-buttons\">\n",
              "\n",
              "  <div class=\"colab-df-container\">\n",
              "    <button class=\"colab-df-convert\" onclick=\"convertToInteractive('df-8c4b4adb-34a5-4a65-8020-df718342a25d')\"\n",
              "            title=\"Convert this dataframe to an interactive table.\"\n",
              "            style=\"display:none;\">\n",
              "\n",
              "  <svg xmlns=\"http://www.w3.org/2000/svg\" height=\"24px\" viewBox=\"0 -960 960 960\">\n",
              "    <path d=\"M120-120v-720h720v720H120Zm60-500h600v-160H180v160Zm220 220h160v-160H400v160Zm0 220h160v-160H400v160ZM180-400h160v-160H180v160Zm440 0h160v-160H620v160ZM180-180h160v-160H180v160Zm440 0h160v-160H620v160Z\"/>\n",
              "  </svg>\n",
              "    </button>\n",
              "\n",
              "  <style>\n",
              "    .colab-df-container {\n",
              "      display:flex;\n",
              "      gap: 12px;\n",
              "    }\n",
              "\n",
              "    .colab-df-convert {\n",
              "      background-color: #E8F0FE;\n",
              "      border: none;\n",
              "      border-radius: 50%;\n",
              "      cursor: pointer;\n",
              "      display: none;\n",
              "      fill: #1967D2;\n",
              "      height: 32px;\n",
              "      padding: 0 0 0 0;\n",
              "      width: 32px;\n",
              "    }\n",
              "\n",
              "    .colab-df-convert:hover {\n",
              "      background-color: #E2EBFA;\n",
              "      box-shadow: 0px 1px 2px rgba(60, 64, 67, 0.3), 0px 1px 3px 1px rgba(60, 64, 67, 0.15);\n",
              "      fill: #174EA6;\n",
              "    }\n",
              "\n",
              "    .colab-df-buttons div {\n",
              "      margin-bottom: 4px;\n",
              "    }\n",
              "\n",
              "    [theme=dark] .colab-df-convert {\n",
              "      background-color: #3B4455;\n",
              "      fill: #D2E3FC;\n",
              "    }\n",
              "\n",
              "    [theme=dark] .colab-df-convert:hover {\n",
              "      background-color: #434B5C;\n",
              "      box-shadow: 0px 1px 3px 1px rgba(0, 0, 0, 0.15);\n",
              "      filter: drop-shadow(0px 1px 2px rgba(0, 0, 0, 0.3));\n",
              "      fill: #FFFFFF;\n",
              "    }\n",
              "  </style>\n",
              "\n",
              "    <script>\n",
              "      const buttonEl =\n",
              "        document.querySelector('#df-8c4b4adb-34a5-4a65-8020-df718342a25d button.colab-df-convert');\n",
              "      buttonEl.style.display =\n",
              "        google.colab.kernel.accessAllowed ? 'block' : 'none';\n",
              "\n",
              "      async function convertToInteractive(key) {\n",
              "        const element = document.querySelector('#df-8c4b4adb-34a5-4a65-8020-df718342a25d');\n",
              "        const dataTable =\n",
              "          await google.colab.kernel.invokeFunction('convertToInteractive',\n",
              "                                                    [key], {});\n",
              "        if (!dataTable) return;\n",
              "\n",
              "        const docLinkHtml = 'Like what you see? Visit the ' +\n",
              "          '<a target=\"_blank\" href=https://colab.research.google.com/notebooks/data_table.ipynb>data table notebook</a>'\n",
              "          + ' to learn more about interactive tables.';\n",
              "        element.innerHTML = '';\n",
              "        dataTable['output_type'] = 'display_data';\n",
              "        await google.colab.output.renderOutput(dataTable, element);\n",
              "        const docLink = document.createElement('div');\n",
              "        docLink.innerHTML = docLinkHtml;\n",
              "        element.appendChild(docLink);\n",
              "      }\n",
              "    </script>\n",
              "  </div>\n",
              "\n",
              "\n",
              "<div id=\"df-ab1130fa-5b4c-463f-8a56-d9ba6e0a02f4\">\n",
              "  <button class=\"colab-df-quickchart\" onclick=\"quickchart('df-ab1130fa-5b4c-463f-8a56-d9ba6e0a02f4')\"\n",
              "            title=\"Suggest charts\"\n",
              "            style=\"display:none;\">\n",
              "\n",
              "<svg xmlns=\"http://www.w3.org/2000/svg\" height=\"24px\"viewBox=\"0 0 24 24\"\n",
              "     width=\"24px\">\n",
              "    <g>\n",
              "        <path d=\"M19 3H5c-1.1 0-2 .9-2 2v14c0 1.1.9 2 2 2h14c1.1 0 2-.9 2-2V5c0-1.1-.9-2-2-2zM9 17H7v-7h2v7zm4 0h-2V7h2v10zm4 0h-2v-4h2v4z\"/>\n",
              "    </g>\n",
              "</svg>\n",
              "  </button>\n",
              "\n",
              "<style>\n",
              "  .colab-df-quickchart {\n",
              "      --bg-color: #E8F0FE;\n",
              "      --fill-color: #1967D2;\n",
              "      --hover-bg-color: #E2EBFA;\n",
              "      --hover-fill-color: #174EA6;\n",
              "      --disabled-fill-color: #AAA;\n",
              "      --disabled-bg-color: #DDD;\n",
              "  }\n",
              "\n",
              "  [theme=dark] .colab-df-quickchart {\n",
              "      --bg-color: #3B4455;\n",
              "      --fill-color: #D2E3FC;\n",
              "      --hover-bg-color: #434B5C;\n",
              "      --hover-fill-color: #FFFFFF;\n",
              "      --disabled-bg-color: #3B4455;\n",
              "      --disabled-fill-color: #666;\n",
              "  }\n",
              "\n",
              "  .colab-df-quickchart {\n",
              "    background-color: var(--bg-color);\n",
              "    border: none;\n",
              "    border-radius: 50%;\n",
              "    cursor: pointer;\n",
              "    display: none;\n",
              "    fill: var(--fill-color);\n",
              "    height: 32px;\n",
              "    padding: 0;\n",
              "    width: 32px;\n",
              "  }\n",
              "\n",
              "  .colab-df-quickchart:hover {\n",
              "    background-color: var(--hover-bg-color);\n",
              "    box-shadow: 0 1px 2px rgba(60, 64, 67, 0.3), 0 1px 3px 1px rgba(60, 64, 67, 0.15);\n",
              "    fill: var(--button-hover-fill-color);\n",
              "  }\n",
              "\n",
              "  .colab-df-quickchart-complete:disabled,\n",
              "  .colab-df-quickchart-complete:disabled:hover {\n",
              "    background-color: var(--disabled-bg-color);\n",
              "    fill: var(--disabled-fill-color);\n",
              "    box-shadow: none;\n",
              "  }\n",
              "\n",
              "  .colab-df-spinner {\n",
              "    border: 2px solid var(--fill-color);\n",
              "    border-color: transparent;\n",
              "    border-bottom-color: var(--fill-color);\n",
              "    animation:\n",
              "      spin 1s steps(1) infinite;\n",
              "  }\n",
              "\n",
              "  @keyframes spin {\n",
              "    0% {\n",
              "      border-color: transparent;\n",
              "      border-bottom-color: var(--fill-color);\n",
              "      border-left-color: var(--fill-color);\n",
              "    }\n",
              "    20% {\n",
              "      border-color: transparent;\n",
              "      border-left-color: var(--fill-color);\n",
              "      border-top-color: var(--fill-color);\n",
              "    }\n",
              "    30% {\n",
              "      border-color: transparent;\n",
              "      border-left-color: var(--fill-color);\n",
              "      border-top-color: var(--fill-color);\n",
              "      border-right-color: var(--fill-color);\n",
              "    }\n",
              "    40% {\n",
              "      border-color: transparent;\n",
              "      border-right-color: var(--fill-color);\n",
              "      border-top-color: var(--fill-color);\n",
              "    }\n",
              "    60% {\n",
              "      border-color: transparent;\n",
              "      border-right-color: var(--fill-color);\n",
              "    }\n",
              "    80% {\n",
              "      border-color: transparent;\n",
              "      border-right-color: var(--fill-color);\n",
              "      border-bottom-color: var(--fill-color);\n",
              "    }\n",
              "    90% {\n",
              "      border-color: transparent;\n",
              "      border-bottom-color: var(--fill-color);\n",
              "    }\n",
              "  }\n",
              "</style>\n",
              "\n",
              "  <script>\n",
              "    async function quickchart(key) {\n",
              "      const quickchartButtonEl =\n",
              "        document.querySelector('#' + key + ' button');\n",
              "      quickchartButtonEl.disabled = true;  // To prevent multiple clicks.\n",
              "      quickchartButtonEl.classList.add('colab-df-spinner');\n",
              "      try {\n",
              "        const charts = await google.colab.kernel.invokeFunction(\n",
              "            'suggestCharts', [key], {});\n",
              "      } catch (error) {\n",
              "        console.error('Error during call to suggestCharts:', error);\n",
              "      }\n",
              "      quickchartButtonEl.classList.remove('colab-df-spinner');\n",
              "      quickchartButtonEl.classList.add('colab-df-quickchart-complete');\n",
              "    }\n",
              "    (() => {\n",
              "      let quickchartButtonEl =\n",
              "        document.querySelector('#df-ab1130fa-5b4c-463f-8a56-d9ba6e0a02f4 button');\n",
              "      quickchartButtonEl.style.display =\n",
              "        google.colab.kernel.accessAllowed ? 'block' : 'none';\n",
              "    })();\n",
              "  </script>\n",
              "</div>\n",
              "\n",
              "  <div id=\"id_0693c143-7051-4118-8ce4-ddfecfe67e8c\">\n",
              "    <style>\n",
              "      .colab-df-generate {\n",
              "        background-color: #E8F0FE;\n",
              "        border: none;\n",
              "        border-radius: 50%;\n",
              "        cursor: pointer;\n",
              "        display: none;\n",
              "        fill: #1967D2;\n",
              "        height: 32px;\n",
              "        padding: 0 0 0 0;\n",
              "        width: 32px;\n",
              "      }\n",
              "\n",
              "      .colab-df-generate:hover {\n",
              "        background-color: #E2EBFA;\n",
              "        box-shadow: 0px 1px 2px rgba(60, 64, 67, 0.3), 0px 1px 3px 1px rgba(60, 64, 67, 0.15);\n",
              "        fill: #174EA6;\n",
              "      }\n",
              "\n",
              "      [theme=dark] .colab-df-generate {\n",
              "        background-color: #3B4455;\n",
              "        fill: #D2E3FC;\n",
              "      }\n",
              "\n",
              "      [theme=dark] .colab-df-generate:hover {\n",
              "        background-color: #434B5C;\n",
              "        box-shadow: 0px 1px 3px 1px rgba(0, 0, 0, 0.15);\n",
              "        filter: drop-shadow(0px 1px 2px rgba(0, 0, 0, 0.3));\n",
              "        fill: #FFFFFF;\n",
              "      }\n",
              "    </style>\n",
              "    <button class=\"colab-df-generate\" onclick=\"generateWithVariable('X_train')\"\n",
              "            title=\"Generate code using this dataframe.\"\n",
              "            style=\"display:none;\">\n",
              "\n",
              "  <svg xmlns=\"http://www.w3.org/2000/svg\" height=\"24px\"viewBox=\"0 0 24 24\"\n",
              "       width=\"24px\">\n",
              "    <path d=\"M7,19H8.4L18.45,9,17,7.55,7,17.6ZM5,21V16.75L18.45,3.32a2,2,0,0,1,2.83,0l1.4,1.43a1.91,1.91,0,0,1,.58,1.4,1.91,1.91,0,0,1-.58,1.4L9.25,21ZM18.45,9,17,7.55Zm-12,3A5.31,5.31,0,0,0,4.9,8.1,5.31,5.31,0,0,0,1,6.5,5.31,5.31,0,0,0,4.9,4.9,5.31,5.31,0,0,0,6.5,1,5.31,5.31,0,0,0,8.1,4.9,5.31,5.31,0,0,0,12,6.5,5.46,5.46,0,0,0,6.5,12Z\"/>\n",
              "  </svg>\n",
              "    </button>\n",
              "    <script>\n",
              "      (() => {\n",
              "      const buttonEl =\n",
              "        document.querySelector('#id_0693c143-7051-4118-8ce4-ddfecfe67e8c button.colab-df-generate');\n",
              "      buttonEl.style.display =\n",
              "        google.colab.kernel.accessAllowed ? 'block' : 'none';\n",
              "\n",
              "      buttonEl.onclick = () => {\n",
              "        google.colab.notebook.generateWithVariable('X_train');\n",
              "      }\n",
              "      })();\n",
              "    </script>\n",
              "  </div>\n",
              "\n",
              "    </div>\n",
              "  </div>\n"
            ],
            "application/vnd.google.colaboratory.intrinsic+json": {
              "type": "dataframe",
              "variable_name": "X_train",
              "summary": "{\n  \"name\": \"X_train\",\n  \"rows\": 80,\n  \"fields\": [\n    {\n      \"column\": \"age\",\n      \"properties\": {\n        \"dtype\": \"number\",\n        \"std\": 24,\n        \"min\": 5,\n        \"max\": 84,\n        \"num_unique_values\": 51,\n        \"samples\": [\n          48,\n          13,\n          14\n        ],\n        \"semantic_type\": \"\",\n        \"description\": \"\"\n      }\n    },\n    {\n      \"column\": \"gender\",\n      \"properties\": {\n        \"dtype\": \"category\",\n        \"num_unique_values\": 2,\n        \"samples\": [\n          \"Female\",\n          \"Male\"\n        ],\n        \"semantic_type\": \"\",\n        \"description\": \"\"\n      }\n    },\n    {\n      \"column\": \"fever\",\n      \"properties\": {\n        \"dtype\": \"number\",\n        \"std\": 2.1064465616571217,\n        \"min\": 98.0,\n        \"max\": 104.0,\n        \"num_unique_values\": 7,\n        \"samples\": [\n          100.0,\n          104.0\n        ],\n        \"semantic_type\": \"\",\n        \"description\": \"\"\n      }\n    },\n    {\n      \"column\": \"cough\",\n      \"properties\": {\n        \"dtype\": \"category\",\n        \"num_unique_values\": 2,\n        \"samples\": [\n          \"Strong\",\n          \"Mild\"\n        ],\n        \"semantic_type\": \"\",\n        \"description\": \"\"\n      }\n    },\n    {\n      \"column\": \"city\",\n      \"properties\": {\n        \"dtype\": \"category\",\n        \"num_unique_values\": 4,\n        \"samples\": [\n          \"Bangalore\",\n          \"Kolkata\"\n        ],\n        \"semantic_type\": \"\",\n        \"description\": \"\"\n      }\n    }\n  ]\n}"
            }
          },
          "metadata": {},
          "execution_count": 8
        }
      ]
    },
    {
      "cell_type": "markdown",
      "source": [
        "##1.Normal Way"
      ],
      "metadata": {
        "id": "XJkTb9AM7h8F"
      }
    },
    {
      "cell_type": "code",
      "source": [
        "si = SimpleImputer()\n",
        "X_train_fever = si.fit_transform(X_train[['fever']])\n",
        "\n",
        "# also the test data\n",
        "X_test_fever = si.fit_transform(X_test[['fever']])\n",
        "\n",
        "X_train_fever.shape"
      ],
      "metadata": {
        "colab": {
          "base_uri": "https://localhost:8080/"
        },
        "id": "ktkz4nvx7gVD",
        "outputId": "b2b15798-3560-4079-fad3-9e0ee66aa33b"
      },
      "execution_count": 13,
      "outputs": [
        {
          "output_type": "execute_result",
          "data": {
            "text/plain": [
              "(80, 1)"
            ]
          },
          "metadata": {},
          "execution_count": 13
        }
      ]
    },
    {
      "cell_type": "code",
      "source": [
        "# Ordinalencoding -> cough\n",
        "oe = OrdinalEncoder(categories=[['Mild','Strong']])\n",
        "X_train_cough = oe.fit_transform(X_train[['cough']])\n",
        "\n",
        "# also the test data\n",
        "X_test_cough = oe.fit_transform(X_test[['cough']])\n",
        "\n",
        "X_train_cough.shape"
      ],
      "metadata": {
        "colab": {
          "base_uri": "https://localhost:8080/"
        },
        "id": "U99lRvan7xFn",
        "outputId": "e8e52bc2-92bb-40f1-aca9-e9d7cd652a81"
      },
      "execution_count": 14,
      "outputs": [
        {
          "output_type": "execute_result",
          "data": {
            "text/plain": [
              "(80, 1)"
            ]
          },
          "metadata": {},
          "execution_count": 14
        }
      ]
    },
    {
      "cell_type": "code",
      "source": [
        "# OneHotEncoding -> gender,city\n",
        "ohe = OneHotEncoder(drop='first')\n",
        "X_train_gender_city = ohe.fit_transform(X_train[['gender','city']])\n",
        "\n",
        "# also the test data\n",
        "X_test_gender_city = ohe.fit_transform(X_test[['gender','city']])\n",
        "\n",
        "X_train_gender_city.shape"
      ],
      "metadata": {
        "colab": {
          "base_uri": "https://localhost:8080/"
        },
        "id": "akCvtkPq8faC",
        "outputId": "9ba72c0b-2be5-48cb-c6ba-a92e99faff08"
      },
      "execution_count": 17,
      "outputs": [
        {
          "output_type": "execute_result",
          "data": {
            "text/plain": [
              "(80, 4)"
            ]
          },
          "metadata": {},
          "execution_count": 17
        }
      ]
    },
    {
      "cell_type": "code",
      "source": [
        "# Extracting Age\n",
        "X_train_age = X_train.drop(columns=['gender','fever','cough','city']).values\n",
        "\n",
        "# also the test data\n",
        "X_test_age = X_test.drop(columns=['gender','fever','cough','city']).values\n",
        "\n",
        "X_train_age.shape\n"
      ],
      "metadata": {
        "colab": {
          "base_uri": "https://localhost:8080/"
        },
        "id": "NY6ktkEr-IPU",
        "outputId": "21ec1e5f-1bd3-458c-be7c-f0ded67742df"
      },
      "execution_count": 20,
      "outputs": [
        {
          "output_type": "execute_result",
          "data": {
            "text/plain": [
              "(80, 1)"
            ]
          },
          "metadata": {},
          "execution_count": 20
        }
      ]
    },
    {
      "cell_type": "code",
      "source": [
        "X_train_transformed = np.concatenate((X_train_age,X_train_fever,X_train_gender_city,X_train_cough),axis=1)\n",
        "# also the test data\n",
        "X_test_transformed = np.concatenate((X_test_age,X_test_fever,X_test_gender_city,X_test_cough),axis=1)\n",
        "\n",
        "X_train_transformed.shape"
      ],
      "metadata": {
        "id": "ErFZXajL-BCT"
      },
      "execution_count": null,
      "outputs": []
    },
    {
      "cell_type": "markdown",
      "source": [
        "##2.With Column Transformer"
      ],
      "metadata": {
        "id": "bWhsIRYtEGIQ"
      }
    },
    {
      "cell_type": "code",
      "source": [
        "from sklearn.compose import ColumnTransformer"
      ],
      "metadata": {
        "id": "l0msVDS3EFQZ"
      },
      "execution_count": 23,
      "outputs": []
    },
    {
      "cell_type": "code",
      "source": [
        "transformer = ColumnTransformer(transformers=[\n",
        "    ('tnf1',SimpleImputer(),['fever']),\n",
        "    ('tnf2',OrdinalEncoder(categories=[['Mild','Strong']]),['cough']),\n",
        "    ('tnf3',OneHotEncoder(drop='first'),['gender','city'])\n",
        "],remainder='passthrough')\n"
      ],
      "metadata": {
        "id": "Jd0UFuLMEU2T"
      },
      "execution_count": 25,
      "outputs": []
    },
    {
      "cell_type": "code",
      "source": [
        "transformer.fit_transform(X_train).shape"
      ],
      "metadata": {
        "colab": {
          "base_uri": "https://localhost:8080/"
        },
        "id": "MCbp4zWTE4X0",
        "outputId": "6c296d9b-e2ca-4096-fb46-2d787c145079"
      },
      "execution_count": 26,
      "outputs": [
        {
          "output_type": "execute_result",
          "data": {
            "text/plain": [
              "(80, 7)"
            ]
          },
          "metadata": {},
          "execution_count": 26
        }
      ]
    },
    {
      "cell_type": "code",
      "source": [
        "transformer.fit_transform(X_test).shape"
      ],
      "metadata": {
        "colab": {
          "base_uri": "https://localhost:8080/"
        },
        "id": "l7ZjW75LFI2O",
        "outputId": "0b33861b-ec1e-40eb-baad-48a991663f08"
      },
      "execution_count": 27,
      "outputs": [
        {
          "output_type": "execute_result",
          "data": {
            "text/plain": [
              "(20, 7)"
            ]
          },
          "metadata": {},
          "execution_count": 27
        }
      ]
    },
    {
      "cell_type": "markdown",
      "source": [
        "#Using ColumnTransfomer"
      ],
      "metadata": {
        "id": "yqhKc0eVGDxb"
      }
    },
    {
      "cell_type": "code",
      "source": [
        "from sklearn.compose import ColumnTransformer\n",
        "from sklearn.pipeline import Pipeline\n",
        "from sklearn.impute import SimpleImputer\n",
        "from sklearn.preprocessing import OneHotEncoder, StandardScaler\n",
        "from sklearn.model_selection import train_test_split\n",
        "\n",
        "# Separate features and target\n",
        "X = df.drop(columns=['has_covid'])\n",
        "y = df['has_covid']\n",
        "\n",
        "# Split into training and testing sets\n",
        "X_train, X_test, y_train, y_test = train_test_split(X, y, test_size=0.2, random_state=42)\n",
        "\n",
        "# Define preprocessing for numerical columns\n",
        "numerical_features = ['age', 'fever']\n",
        "numerical_transformer = Pipeline(steps=[\n",
        "    ('imputer', SimpleImputer(strategy='mean')),  # Fill missing values with mean\n",
        "    ('scaler', StandardScaler())                 # Scale the data\n",
        "])\n",
        "\n",
        "# Define preprocessing for categorical columns\n",
        "categorical_features = ['gender', 'cough', 'city']\n",
        "categorical_transformer = Pipeline(steps=[\n",
        "    ('imputer', SimpleImputer(strategy='most_frequent')),  # Fill missing values with most frequent value\n",
        "    ('onehot', OneHotEncoder(handle_unknown='ignore'))      # One-hot encode categorical features\n",
        "])\n",
        "\n",
        "# Combine preprocessing steps using ColumnTransformer\n",
        "preprocessor = ColumnTransformer(\n",
        "    transformers=[\n",
        "        ('num', numerical_transformer, numerical_features),\n",
        "        ('cat', categorical_transformer, categorical_features)\n",
        "    ])\n",
        "\n",
        "# Apply the preprocessor to the training and testing data\n",
        "X_train_transformed = preprocessor.fit_transform(X_train)\n",
        "X_test_transformed = preprocessor.transform(X_test)\n",
        "\n",
        "# Check the shape of the transformed data\n",
        "print(\"X_train_transformed shape:\", X_train_transformed.shape)\n",
        "print(\"X_test_transformed shape:\", X_test_transformed.shape)"
      ],
      "metadata": {
        "colab": {
          "base_uri": "https://localhost:8080/"
        },
        "id": "RzaTo28DFQvg",
        "outputId": "a5c91f66-7405-4a0c-fa57-432bb779e791"
      },
      "execution_count": 28,
      "outputs": [
        {
          "output_type": "stream",
          "name": "stdout",
          "text": [
            "X_train_transformed shape: (80, 10)\n",
            "X_test_transformed shape: (20, 10)\n"
          ]
        }
      ]
    },
    {
      "cell_type": "code",
      "source": [
        "from sklearn.impute import SimpleImputer\n",
        "from sklearn.preprocessing import OneHotEncoder, StandardScaler\n",
        "\n",
        "# Separate features and target\n",
        "X = df.drop(columns=['has_covid'])\n",
        "y = df['has_covid']\n",
        "\n",
        "# Split into training and testing sets\n",
        "X_train, X_test, y_train, y_test = train_test_split(X, y, test_size=0.2, random_state=42)\n",
        "\n",
        "# Preprocess numerical columns\n",
        "numerical_features = ['age', 'fever']\n",
        "numerical_imputer = SimpleImputer(strategy='mean')  # Fill missing values with mean\n",
        "numerical_scaler = StandardScaler()                # Scale the data\n",
        "\n",
        "# Fit and transform numerical columns\n",
        "X_train_numerical = numerical_imputer.fit_transform(X_train[numerical_features])\n",
        "X_train_numerical = numerical_scaler.fit_transform(X_train_numerical)\n",
        "\n",
        "X_test_numerical = numerical_imputer.transform(X_test[numerical_features])\n",
        "X_test_numerical = numerical_scaler.transform(X_test_numerical)\n",
        "\n",
        "# Preprocess categorical columns\n",
        "categorical_features = ['gender', 'cough', 'city']\n",
        "categorical_imputer = SimpleImputer(strategy='most_frequent')  # Fill missing values with most frequent value\n",
        "categorical_encoder = OneHotEncoder(handle_unknown='ignore')   # One-hot encode categorical features\n",
        "\n",
        "# Fit and transform categorical columns\n",
        "X_train_categorical = categorical_imputer.fit_transform(X_train[categorical_features])\n",
        "X_train_categorical = categorical_encoder.fit_transform(X_train_categorical)\n",
        "\n",
        "X_test_categorical = categorical_imputer.transform(X_test[categorical_features])\n",
        "X_test_categorical = categorical_encoder.transform(X_test_categorical)\n",
        "\n",
        "# Combine numerical and categorical features\n",
        "import scipy.sparse as sp\n",
        "X_train_transformed = sp.hstack([X_train_numerical, X_train_categorical])\n",
        "X_test_transformed = sp.hstack([X_test_numerical, X_test_categorical])\n",
        "\n",
        "# Check the shape of the transformed data\n",
        "print(\"X_train_transformed shape:\", X_train_transformed.shape)\n",
        "print(\"X_test_transformed shape:\", X_test_transformed.shape)"
      ],
      "metadata": {
        "colab": {
          "base_uri": "https://localhost:8080/"
        },
        "id": "EvNdG4_9HU87",
        "outputId": "5dc5c934-7a09-4a1c-fe8e-0d15114f596b"
      },
      "execution_count": 29,
      "outputs": [
        {
          "output_type": "stream",
          "name": "stdout",
          "text": [
            "X_train_transformed shape: (80, 10)\n",
            "X_test_transformed shape: (20, 10)\n"
          ]
        }
      ]
    },
    {
      "cell_type": "markdown",
      "source": [
        "![image.png](data:image/png;base64,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)"
      ],
      "metadata": {
        "id": "bnYvfhZxIx0i"
      }
    }
  ]
}