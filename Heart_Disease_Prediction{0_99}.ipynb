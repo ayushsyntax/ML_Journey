{
  "metadata": {
    "kernelspec": {
      "language": "python",
      "display_name": "Python 3",
      "name": "python3"
    },
    "language_info": {
      "name": "python",
      "version": "3.10.12",
      "mimetype": "text/x-python",
      "codemirror_mode": {
        "name": "ipython",
        "version": 3
      },
      "pygments_lexer": "ipython3",
      "nbconvert_exporter": "python",
      "file_extension": ".py"
    },
    "kaggle": {
      "accelerator": "none",
      "dataSources": [
        {
          "sourceId": 10689451,
          "sourceType": "datasetVersion",
          "datasetId": 6620848
        }
      ],
      "dockerImageVersionId": 30918,
      "isInternetEnabled": true,
      "language": "python",
      "sourceType": "notebook",
      "isGpuEnabled": false
    },
    "colab": {
      "name": "Heart_Disease_Prediction{0.99}",
      "provenance": []
    }
  },
  "nbformat_minor": 0,
  "nbformat": 4,
  "cells": [
    {
      "cell_type": "markdown",
      "source": [
        "Dataset : https://www.kaggle.com/datasets/mahatiratusher/heart-disease-risk-prediction-dataset/data\n"
      ],
      "metadata": {
        "id": "LZTed096Wxym"
      }
    },
    {
      "cell_type": "code",
      "source": [
        "import pandas as pd\n",
        "from sklearn.model_selection import train_test_split\n",
        "from sklearn.preprocessing import StandardScaler"
      ],
      "metadata": {
        "trusted": true,
        "execution": {
          "iopub.status.busy": "2025-03-06T11:35:46.486966Z",
          "iopub.execute_input": "2025-03-06T11:35:46.487301Z",
          "iopub.status.idle": "2025-03-06T11:35:46.505756Z",
          "shell.execute_reply.started": "2025-03-06T11:35:46.487267Z",
          "shell.execute_reply": "2025-03-06T11:35:46.504649Z"
        },
        "id": "2-kh0559WpYW"
      },
      "outputs": [],
      "execution_count": null
    },
    {
      "cell_type": "code",
      "source": [
        "data = pd.read_csv(\"/kaggle/input/heart-disease-risk-prediction-dataset/heart_disease_risk_dataset_earlymed.csv\")"
      ],
      "metadata": {
        "trusted": true,
        "execution": {
          "iopub.status.busy": "2025-03-06T11:35:46.506774Z",
          "iopub.execute_input": "2025-03-06T11:35:46.507161Z",
          "iopub.status.idle": "2025-03-06T11:35:46.613932Z",
          "shell.execute_reply.started": "2025-03-06T11:35:46.507128Z",
          "shell.execute_reply": "2025-03-06T11:35:46.613213Z"
        },
        "id": "6G5TEvYDWpYW"
      },
      "outputs": [],
      "execution_count": null
    },
    {
      "cell_type": "code",
      "source": [
        "data.sample()"
      ],
      "metadata": {
        "trusted": true,
        "execution": {
          "iopub.status.busy": "2025-03-06T11:35:46.614574Z",
          "iopub.execute_input": "2025-03-06T11:35:46.614792Z",
          "iopub.status.idle": "2025-03-06T11:35:46.629496Z",
          "shell.execute_reply.started": "2025-03-06T11:35:46.614772Z",
          "shell.execute_reply": "2025-03-06T11:35:46.628598Z"
        },
        "id": "aEtTcVShWpYW"
      },
      "outputs": [],
      "execution_count": null
    },
    {
      "cell_type": "code",
      "source": [
        "print(data.isnull().sum())\n",
        "print(data.info())"
      ],
      "metadata": {
        "trusted": true,
        "execution": {
          "iopub.status.busy": "2025-03-06T11:35:46.630188Z",
          "iopub.execute_input": "2025-03-06T11:35:46.630413Z",
          "iopub.status.idle": "2025-03-06T11:35:46.666375Z",
          "shell.execute_reply.started": "2025-03-06T11:35:46.63039Z",
          "shell.execute_reply": "2025-03-06T11:35:46.665248Z"
        },
        "id": "pE2O8LFOWpYW"
      },
      "outputs": [],
      "execution_count": null
    },
    {
      "cell_type": "code",
      "source": [
        "X = data.drop('Heart_Risk',axis =1)\n",
        "y = data['Heart_Risk']"
      ],
      "metadata": {
        "trusted": true,
        "execution": {
          "iopub.status.busy": "2025-03-06T11:35:46.667453Z",
          "iopub.execute_input": "2025-03-06T11:35:46.667979Z",
          "iopub.status.idle": "2025-03-06T11:35:46.675687Z",
          "shell.execute_reply.started": "2025-03-06T11:35:46.667939Z",
          "shell.execute_reply": "2025-03-06T11:35:46.674811Z"
        },
        "id": "-vMTf_cfWpYW"
      },
      "outputs": [],
      "execution_count": null
    },
    {
      "cell_type": "code",
      "source": [
        "X_train,X_test,y_train,y_test = train_test_split(X,y,test_size = 0.3,random_state =42)"
      ],
      "metadata": {
        "trusted": true,
        "execution": {
          "iopub.status.busy": "2025-03-06T11:35:46.676445Z",
          "iopub.execute_input": "2025-03-06T11:35:46.67667Z",
          "iopub.status.idle": "2025-03-06T11:35:46.707088Z",
          "shell.execute_reply.started": "2025-03-06T11:35:46.676646Z",
          "shell.execute_reply": "2025-03-06T11:35:46.705328Z"
        },
        "id": "aPnaNCzeWpYX"
      },
      "outputs": [],
      "execution_count": null
    },
    {
      "cell_type": "code",
      "source": [
        "print(X_train,\"\\n\")\n",
        "print(y_train,\"\\n\")\n",
        "print(X_test,\"\\n\")\n",
        "print(y_test)"
      ],
      "metadata": {
        "trusted": true,
        "execution": {
          "iopub.status.busy": "2025-03-06T11:35:46.708187Z",
          "iopub.execute_input": "2025-03-06T11:35:46.708512Z",
          "iopub.status.idle": "2025-03-06T11:35:46.733071Z",
          "shell.execute_reply.started": "2025-03-06T11:35:46.708487Z",
          "shell.execute_reply": "2025-03-06T11:35:46.731988Z"
        },
        "id": "iiRH-jphWpYX"
      },
      "outputs": [],
      "execution_count": null
    },
    {
      "cell_type": "code",
      "source": [
        "scaler = StandardScaler()\n",
        "X_train_scaled = scaler.fit_transform(X_train)\n",
        "X_test_scaled = scaler.transform(X_test)\n"
      ],
      "metadata": {
        "trusted": true,
        "execution": {
          "iopub.status.busy": "2025-03-06T11:35:46.733849Z",
          "iopub.execute_input": "2025-03-06T11:35:46.73408Z",
          "iopub.status.idle": "2025-03-06T11:35:46.773997Z",
          "shell.execute_reply.started": "2025-03-06T11:35:46.734054Z",
          "shell.execute_reply": "2025-03-06T11:35:46.773033Z"
        },
        "id": "guJ3XD88WpYX"
      },
      "outputs": [],
      "execution_count": null
    },
    {
      "cell_type": "code",
      "source": [
        "import seaborn as sns\n",
        "import matplotlib.pyplot as plt\n",
        "\n",
        "print(data.describe())"
      ],
      "metadata": {
        "trusted": true,
        "execution": {
          "iopub.status.busy": "2025-03-06T11:35:46.776685Z",
          "iopub.execute_input": "2025-03-06T11:35:46.776947Z",
          "iopub.status.idle": "2025-03-06T11:35:46.862228Z",
          "shell.execute_reply.started": "2025-03-06T11:35:46.776924Z",
          "shell.execute_reply": "2025-03-06T11:35:46.861578Z"
        },
        "id": "y4Q4SH1NWpYX"
      },
      "outputs": [],
      "execution_count": null
    },
    {
      "cell_type": "code",
      "source": [
        "corr_matrix = data.corr()\n",
        "sns.heatmap(corr_matrix, annot= False, cmap='coolwarm', fmt=\".2f\")\n",
        "plt.title('Feature Correlation Heatmap')\n",
        "plt.show()"
      ],
      "metadata": {
        "trusted": true,
        "execution": {
          "iopub.status.busy": "2025-03-06T11:35:46.863051Z",
          "iopub.execute_input": "2025-03-06T11:35:46.864854Z",
          "iopub.status.idle": "2025-03-06T11:35:47.272079Z",
          "shell.execute_reply.started": "2025-03-06T11:35:46.864832Z",
          "shell.execute_reply": "2025-03-06T11:35:47.270979Z"
        },
        "id": "Bw7MeaSMWpYY"
      },
      "outputs": [],
      "execution_count": null
    },
    {
      "cell_type": "code",
      "source": [
        "sns.countplot(x='Heart_Risk', data=data)\n",
        "plt.title('Distribution of Heart Disease Risk')\n",
        "plt.show()"
      ],
      "metadata": {
        "trusted": true,
        "execution": {
          "iopub.status.busy": "2025-03-06T11:35:47.273167Z",
          "iopub.execute_input": "2025-03-06T11:35:47.273476Z",
          "iopub.status.idle": "2025-03-06T11:35:47.40557Z",
          "shell.execute_reply.started": "2025-03-06T11:35:47.273449Z",
          "shell.execute_reply": "2025-03-06T11:35:47.404488Z"
        },
        "id": "zIE4e3H5WpYY"
      },
      "outputs": [],
      "execution_count": null
    },
    {
      "cell_type": "code",
      "source": [
        "from sklearn.tree import DecisionTreeClassifier\n",
        "from sklearn.ensemble import RandomForestClassifier, GradientBoostingClassifier\n",
        "from sklearn.linear_model import LogisticRegression\n",
        "from sklearn.metrics import accuracy_score, classification_report, confusion_matrix\n",
        "from sklearn.model_selection import cross_val_score\n",
        "\n",
        "\n",
        "models = {\n",
        "    \"Logistic Regression\": LogisticRegression(max_iter=1000, random_state=42),\n",
        "    \"Random Forest\": RandomForestClassifier(random_state=42),\n",
        "    \"Gradient Boosting\": GradientBoostingClassifier(random_state=42),\n",
        "    \"Decision Tree\": DecisionTreeClassifier(random_state=42)\n",
        "}\n",
        "\n",
        "\n",
        "for name, model in models.items():\n",
        "    model.fit(X_train_scaled, y_train)\n",
        "    y_pred = model.predict(X_test_scaled)\n",
        "    print(f\"{name} Accuracy: {accuracy_score(y_test, y_pred):.2f}\")\n",
        "    print(classification_report(y_test, y_pred))\n",
        "    print(confusion_matrix(y_test, y_pred))\n",
        "    print('-' * 50)"
      ],
      "metadata": {
        "trusted": true,
        "execution": {
          "iopub.status.busy": "2025-03-06T11:38:18.107806Z",
          "iopub.execute_input": "2025-03-06T11:38:18.108202Z",
          "iopub.status.idle": "2025-03-06T11:38:25.261792Z",
          "shell.execute_reply.started": "2025-03-06T11:38:18.108167Z",
          "shell.execute_reply": "2025-03-06T11:38:25.259918Z"
        },
        "id": "ogbumG1-WpYY"
      },
      "outputs": [],
      "execution_count": null
    },
    {
      "cell_type": "code",
      "source": [
        "gb_model = GradientBoostingClassifier(random_state = 42)\n",
        "gb_model.fit(X_train_scaled,y_train)\n"
      ],
      "metadata": {
        "trusted": true,
        "execution": {
          "iopub.status.busy": "2025-03-06T11:53:31.629463Z",
          "iopub.execute_input": "2025-03-06T11:53:31.62978Z",
          "iopub.status.idle": "2025-03-06T11:53:35.443345Z",
          "shell.execute_reply.started": "2025-03-06T11:53:31.62975Z",
          "shell.execute_reply": "2025-03-06T11:53:35.442369Z"
        },
        "id": "_ZYFYd-MWpYY"
      },
      "outputs": [],
      "execution_count": null
    },
    {
      "cell_type": "code",
      "source": [
        "y_pred = gb_model.predict(X_test_scaled)"
      ],
      "metadata": {
        "trusted": true,
        "execution": {
          "iopub.status.busy": "2025-03-06T11:54:03.715084Z",
          "iopub.execute_input": "2025-03-06T11:54:03.715434Z",
          "iopub.status.idle": "2025-03-06T11:54:03.769596Z",
          "shell.execute_reply.started": "2025-03-06T11:54:03.715399Z",
          "shell.execute_reply": "2025-03-06T11:54:03.768663Z"
        },
        "id": "TXfuFw0PWpYY"
      },
      "outputs": [],
      "execution_count": null
    },
    {
      "cell_type": "code",
      "source": [
        "accuracy = accuracy_score(y_test, y_pred)\n",
        "print(f\"Gradient Boosting Accuracy: {accuracy:.4f}\")\n",
        "\n",
        "print(\"Classification Report:\")\n",
        "print(classification_report(y_test, y_pred))\n",
        "\n",
        "print(\"Confusion Matrix:\")\n",
        "print(confusion_matrix(y_test, y_pred))"
      ],
      "metadata": {
        "trusted": true,
        "execution": {
          "iopub.status.busy": "2025-03-06T11:59:16.233148Z",
          "iopub.execute_input": "2025-03-06T11:59:16.233522Z",
          "iopub.status.idle": "2025-03-06T11:59:16.297617Z",
          "shell.execute_reply.started": "2025-03-06T11:59:16.233491Z",
          "shell.execute_reply": "2025-03-06T11:59:16.296574Z"
        },
        "id": "ZPt8LyjVWpYY"
      },
      "outputs": [],
      "execution_count": null
    },
    {
      "cell_type": "code",
      "source": [
        "\n",
        "feature_importances = gb_model.feature_importances_\n",
        "\n",
        "feature_importance_df = pd.DataFrame({\n",
        "    'Feature': X.columns,\n",
        "    'Importance': feature_importances\n",
        "})\n",
        "\n",
        "feature_importance_df = feature_importance_df.sort_values(by='Importance', ascending=False)\n",
        "\n",
        "print(\"Feature Importances:\")\n",
        "print(feature_importance_df)"
      ],
      "metadata": {
        "trusted": true,
        "execution": {
          "iopub.status.busy": "2025-03-06T11:55:41.789699Z",
          "iopub.execute_input": "2025-03-06T11:55:41.790084Z",
          "iopub.status.idle": "2025-03-06T11:55:41.80237Z",
          "shell.execute_reply.started": "2025-03-06T11:55:41.790054Z",
          "shell.execute_reply": "2025-03-06T11:55:41.801418Z"
        },
        "id": "6-ko5M-JWpYY"
      },
      "outputs": [],
      "execution_count": null
    },
    {
      "cell_type": "code",
      "source": [
        "import joblib\n",
        "joblib.dump(gb_model, 'heart_disease_model.pkl')"
      ],
      "metadata": {
        "trusted": true,
        "execution": {
          "iopub.status.busy": "2025-03-06T12:02:14.042692Z",
          "iopub.execute_input": "2025-03-06T12:02:14.043083Z",
          "iopub.status.idle": "2025-03-06T12:02:14.058649Z",
          "shell.execute_reply.started": "2025-03-06T12:02:14.043054Z",
          "shell.execute_reply": "2025-03-06T12:02:14.057599Z"
        },
        "id": "rc69056PWpYY"
      },
      "outputs": [],
      "execution_count": null
    },
    {
      "cell_type": "code",
      "source": [],
      "metadata": {
        "trusted": true,
        "id": "bVo6kdMJWpYY"
      },
      "outputs": [],
      "execution_count": null
    }
  ]
}