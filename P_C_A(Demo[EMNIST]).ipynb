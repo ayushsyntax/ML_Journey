{
  "nbformat": 4,
  "nbformat_minor": 0,
  "metadata": {
    "colab": {
      "provenance": [],
      "authorship_tag": "ABX9TyMvyevRjVdFzI2cYJwLaA9P"
    },
    "kernelspec": {
      "name": "python3",
      "display_name": "Python 3"
    },
    "language_info": {
      "name": "python"
    }
  },
  "cells": [
    {
      "cell_type": "code",
      "execution_count": 4,
      "metadata": {
        "colab": {
          "base_uri": "https://localhost:8080/"
        },
        "id": "zv-IAwlTR73f",
        "outputId": "9e69845b-bd8a-4e59-d770-6390af19b8a3"
      },
      "outputs": [
        {
          "output_type": "stream",
          "name": "stdout",
          "text": [
            "Requirement already satisfied: opendatasets in /usr/local/lib/python3.11/dist-packages (0.1.22)\n",
            "Requirement already satisfied: tqdm in /usr/local/lib/python3.11/dist-packages (from opendatasets) (4.67.1)\n",
            "Requirement already satisfied: kaggle in /usr/local/lib/python3.11/dist-packages (from opendatasets) (1.6.17)\n",
            "Requirement already satisfied: click in /usr/local/lib/python3.11/dist-packages (from opendatasets) (8.1.8)\n",
            "Requirement already satisfied: six>=1.10 in /usr/local/lib/python3.11/dist-packages (from kaggle->opendatasets) (1.17.0)\n",
            "Requirement already satisfied: certifi>=2023.7.22 in /usr/local/lib/python3.11/dist-packages (from kaggle->opendatasets) (2025.1.31)\n",
            "Requirement already satisfied: python-dateutil in /usr/local/lib/python3.11/dist-packages (from kaggle->opendatasets) (2.8.2)\n",
            "Requirement already satisfied: requests in /usr/local/lib/python3.11/dist-packages (from kaggle->opendatasets) (2.32.3)\n",
            "Requirement already satisfied: python-slugify in /usr/local/lib/python3.11/dist-packages (from kaggle->opendatasets) (8.0.4)\n",
            "Requirement already satisfied: urllib3 in /usr/local/lib/python3.11/dist-packages (from kaggle->opendatasets) (2.3.0)\n",
            "Requirement already satisfied: bleach in /usr/local/lib/python3.11/dist-packages (from kaggle->opendatasets) (6.2.0)\n",
            "Requirement already satisfied: webencodings in /usr/local/lib/python3.11/dist-packages (from bleach->kaggle->opendatasets) (0.5.1)\n",
            "Requirement already satisfied: text-unidecode>=1.3 in /usr/local/lib/python3.11/dist-packages (from python-slugify->kaggle->opendatasets) (1.3)\n",
            "Requirement already satisfied: charset-normalizer<4,>=2 in /usr/local/lib/python3.11/dist-packages (from requests->kaggle->opendatasets) (3.4.1)\n",
            "Requirement already satisfied: idna<4,>=2.5 in /usr/local/lib/python3.11/dist-packages (from requests->kaggle->opendatasets) (3.10)\n"
          ]
        }
      ],
      "source": [
        "!pip install opendatasets\n"
      ]
    },
    {
      "cell_type": "code",
      "source": [
        "import opendatasets as od"
      ],
      "metadata": {
        "id": "5hXXk2XbSK8d"
      },
      "execution_count": 5,
      "outputs": []
    },
    {
      "cell_type": "code",
      "source": [
        "od.download(\"https://www.kaggle.com/datasets/crawford/emnist?spm=5aebb161.1ca17685.0.0.93b17b18PwqJQ6\")"
      ],
      "metadata": {
        "colab": {
          "base_uri": "https://localhost:8080/"
        },
        "id": "hGXjSx9aSWu6",
        "outputId": "d52bae8d-b2a9-409e-e16c-46be9dd660ba"
      },
      "execution_count": 6,
      "outputs": [
        {
          "output_type": "stream",
          "name": "stdout",
          "text": [
            "Skipping, found downloaded files in \"./emnist\" (use force=True to force download)\n"
          ]
        }
      ]
    },
    {
      "cell_type": "code",
      "source": [
        "import os\n",
        "\n",
        "# List all files in the directory\n",
        "directory_path = '/content/emnist'\n",
        "print(os.listdir(directory_path))"
      ],
      "metadata": {
        "colab": {
          "base_uri": "https://localhost:8080/"
        },
        "id": "FTa-oi4PUB5A",
        "outputId": "7b21d701-dedc-41aa-9ed6-faa4b95afb09"
      },
      "execution_count": 7,
      "outputs": [
        {
          "output_type": "stream",
          "name": "stdout",
          "text": [
            "['emnist-letters-train.csv', 'emnist-bymerge-mapping.txt', 'emnist-balanced-mapping.txt', 'emnist-balanced-train.csv', 'emnist-mnist-test.csv', 'emnist-byclass-mapping.txt', 'emnist-bymerge-test.csv', 'emnist-digits-train.csv', 'emnist-letters-mapping.txt', 'emnist-byclass-test.csv', 'emnist-digits-mapping.txt', 'emnist-mnist-mapping.txt', 'emnist-letters-test.csv', 'emnist-bymerge-train.csv', 'emnist-byclass-train.csv', 'emnist-mnist-train.csv', 'emnist-balanced-test.csv', 'emnist_source_files', 'emnist-digits-test.csv']\n"
          ]
        }
      ]
    },
    {
      "cell_type": "code",
      "source": [
        "import pandas as pd\n",
        "\n",
        "# Load the dataset\n",
        "file_path = '/content/emnist/emnist-balanced-train.csv'\n",
        "data = pd.read_csv(file_path, header=None)\n",
        "\n",
        "# Separate features (pixels) and labels\n",
        "labels = data.iloc[:, 0]  # First column contains the labels\n",
        "features = data.iloc[:, 1:]  # Remaining columns are pixel values"
      ],
      "metadata": {
        "id": "v_cYyViEStwn"
      },
      "execution_count": 8,
      "outputs": []
    },
    {
      "cell_type": "code",
      "source": [
        "print(labels)"
      ],
      "metadata": {
        "colab": {
          "base_uri": "https://localhost:8080/"
        },
        "id": "gDVtUj6cantJ",
        "outputId": "768003b3-fd25-4750-867a-5371b9a6ed56"
      },
      "execution_count": 9,
      "outputs": [
        {
          "output_type": "stream",
          "name": "stdout",
          "text": [
            "0         45\n",
            "1         36\n",
            "2         43\n",
            "3         15\n",
            "4          4\n",
            "          ..\n",
            "112795    22\n",
            "112796    17\n",
            "112797    23\n",
            "112798    31\n",
            "112799     8\n",
            "Name: 0, Length: 112800, dtype: int64\n"
          ]
        }
      ]
    },
    {
      "cell_type": "code",
      "source": [
        "print(features)"
      ],
      "metadata": {
        "colab": {
          "base_uri": "https://localhost:8080/"
        },
        "id": "Tnj2ckm9ax0D",
        "outputId": "c950d839-d086-45c7-de1d-527ef192555a"
      },
      "execution_count": 10,
      "outputs": [
        {
          "output_type": "stream",
          "name": "stdout",
          "text": [
            "        1    2    3    4    5    6    7    8    9    10   ...  775  776  777  \\\n",
            "0         0    0    0    0    0    0    0    0    0    0  ...    0    0    0   \n",
            "1         0    0    0    0    0    0    0    0    0    0  ...    0    0    0   \n",
            "2         0    0    0    0    0    0    0    0    0    0  ...    0    0    0   \n",
            "3         0    0    0    0    0    0    0    0    0    0  ...    0    0    0   \n",
            "4         0    0    0    0    0    0    0    0    0    0  ...    0    0    0   \n",
            "...     ...  ...  ...  ...  ...  ...  ...  ...  ...  ...  ...  ...  ...  ...   \n",
            "112795    0    0    0    0    0    0    0    0    0    0  ...    0    0    0   \n",
            "112796    0    0    0    0    0    0    0    0    0    0  ...    0    0    0   \n",
            "112797    0    0    0    0    0    0    0    0    0    0  ...    0    0    0   \n",
            "112798    0    0    0    0    0    0    0    0    0    0  ...    0    0    0   \n",
            "112799    0    0    0    0    0    0    0    0    0    0  ...    0    0    0   \n",
            "\n",
            "        778  779  780  781  782  783  784  \n",
            "0         0    0    0    0    0    0    0  \n",
            "1         0    0    0    0    0    0    0  \n",
            "2         0    0    0    0    0    0    0  \n",
            "3         0    0    0    0    0    0    0  \n",
            "4         0    0    0    0    0    0    0  \n",
            "...     ...  ...  ...  ...  ...  ...  ...  \n",
            "112795    0    0    0    0    0    0    0  \n",
            "112796    0    0    0    0    0    0    0  \n",
            "112797    0    0    0    0    0    0    0  \n",
            "112798    0    0    0    0    0    0    0  \n",
            "112799    0    0    0    0    0    0    0  \n",
            "\n",
            "[112800 rows x 784 columns]\n"
          ]
        }
      ]
    },
    {
      "cell_type": "code",
      "source": [
        "from sklearn.preprocessing import StandardScaler\n",
        "from sklearn.model_selection import train_test_split"
      ],
      "metadata": {
        "id": "314As0uHbEDt"
      },
      "execution_count": 11,
      "outputs": []
    },
    {
      "cell_type": "code",
      "source": [
        "X_train,X_test,y_train,y_test = train_test_split(features,labels,test_size = 0.33,random_state=42)"
      ],
      "metadata": {
        "id": "BGkblCLxbMon"
      },
      "execution_count": 12,
      "outputs": []
    },
    {
      "cell_type": "code",
      "source": [
        "#Standard(0,1)\n",
        "scaler = StandardScaler()"
      ],
      "metadata": {
        "id": "JU79FqFlbcx8"
      },
      "execution_count": 13,
      "outputs": []
    },
    {
      "cell_type": "code",
      "source": [
        "X_train_scaled = scaler.fit_transform(X_train)\n",
        "X_test_scaled = scaler.transform(X_test)"
      ],
      "metadata": {
        "id": "6iAfgBgGbjOi"
      },
      "execution_count": 14,
      "outputs": []
    },
    {
      "cell_type": "code",
      "source": [
        "from sklearn.linear_model import LogisticRegression\n",
        "from sklearn.metrics import accuracy_score"
      ],
      "metadata": {
        "id": "Lx9ASC5qbwXH"
      },
      "execution_count": 15,
      "outputs": []
    },
    {
      "cell_type": "code",
      "source": [
        "from sklearn.decomposition import PCA"
      ],
      "metadata": {
        "id": "PAXU6_6DcAGs"
      },
      "execution_count": 16,
      "outputs": []
    },
    {
      "cell_type": "code",
      "source": [
        "pca = PCA(n_components=0.95,random_state=42)\n",
        "X_train_pca = pca.fit_transform(X_train_scaled)\n",
        "X_test_pca = pca.transform(X_test_scaled)"
      ],
      "metadata": {
        "id": "EnQhMQQEcINK"
      },
      "execution_count": 27,
      "outputs": []
    },
    {
      "cell_type": "code",
      "source": [
        "# Check the number of components retained\n",
        "print(f\"Number of components retained: {pca.n_components_}\")\n",
        "print(f\"Explained variance ratio: {sum(pca.explained_variance_ratio_):.4f}\")"
      ],
      "metadata": {
        "colab": {
          "base_uri": "https://localhost:8080/"
        },
        "id": "Qi0LQomFcdPw",
        "outputId": "d92046a3-9260-43eb-d398-7b2ca423ee06"
      },
      "execution_count": 28,
      "outputs": [
        {
          "output_type": "stream",
          "name": "stdout",
          "text": [
            "Number of components retained: 10\n",
            "Explained variance ratio: 0.3178\n"
          ]
        }
      ]
    },
    {
      "cell_type": "code",
      "source": [
        "logreg_pca = LogisticRegression(max_iter = 1200,random_state=42)"
      ],
      "metadata": {
        "id": "SZRB5Jz2cikc"
      },
      "execution_count": 29,
      "outputs": []
    },
    {
      "cell_type": "code",
      "source": [
        "logreg_pca.fit(X_train_pca,y_train)"
      ],
      "metadata": {
        "colab": {
          "base_uri": "https://localhost:8080/",
          "height": 80
        },
        "id": "CslfgxRycwj1",
        "outputId": "b6216758-d545-450c-8430-4407262b16f6"
      },
      "execution_count": 31,
      "outputs": [
        {
          "output_type": "execute_result",
          "data": {
            "text/plain": [
              "LogisticRegression(max_iter=1200, random_state=42)"
            ],
            "text/html": [
              "<style>#sk-container-id-2 {\n",
              "  /* Definition of color scheme common for light and dark mode */\n",
              "  --sklearn-color-text: #000;\n",
              "  --sklearn-color-text-muted: #666;\n",
              "  --sklearn-color-line: gray;\n",
              "  /* Definition of color scheme for unfitted estimators */\n",
              "  --sklearn-color-unfitted-level-0: #fff5e6;\n",
              "  --sklearn-color-unfitted-level-1: #f6e4d2;\n",
              "  --sklearn-color-unfitted-level-2: #ffe0b3;\n",
              "  --sklearn-color-unfitted-level-3: chocolate;\n",
              "  /* Definition of color scheme for fitted estimators */\n",
              "  --sklearn-color-fitted-level-0: #f0f8ff;\n",
              "  --sklearn-color-fitted-level-1: #d4ebff;\n",
              "  --sklearn-color-fitted-level-2: #b3dbfd;\n",
              "  --sklearn-color-fitted-level-3: cornflowerblue;\n",
              "\n",
              "  /* Specific color for light theme */\n",
              "  --sklearn-color-text-on-default-background: var(--sg-text-color, var(--theme-code-foreground, var(--jp-content-font-color1, black)));\n",
              "  --sklearn-color-background: var(--sg-background-color, var(--theme-background, var(--jp-layout-color0, white)));\n",
              "  --sklearn-color-border-box: var(--sg-text-color, var(--theme-code-foreground, var(--jp-content-font-color1, black)));\n",
              "  --sklearn-color-icon: #696969;\n",
              "\n",
              "  @media (prefers-color-scheme: dark) {\n",
              "    /* Redefinition of color scheme for dark theme */\n",
              "    --sklearn-color-text-on-default-background: var(--sg-text-color, var(--theme-code-foreground, var(--jp-content-font-color1, white)));\n",
              "    --sklearn-color-background: var(--sg-background-color, var(--theme-background, var(--jp-layout-color0, #111)));\n",
              "    --sklearn-color-border-box: var(--sg-text-color, var(--theme-code-foreground, var(--jp-content-font-color1, white)));\n",
              "    --sklearn-color-icon: #878787;\n",
              "  }\n",
              "}\n",
              "\n",
              "#sk-container-id-2 {\n",
              "  color: var(--sklearn-color-text);\n",
              "}\n",
              "\n",
              "#sk-container-id-2 pre {\n",
              "  padding: 0;\n",
              "}\n",
              "\n",
              "#sk-container-id-2 input.sk-hidden--visually {\n",
              "  border: 0;\n",
              "  clip: rect(1px 1px 1px 1px);\n",
              "  clip: rect(1px, 1px, 1px, 1px);\n",
              "  height: 1px;\n",
              "  margin: -1px;\n",
              "  overflow: hidden;\n",
              "  padding: 0;\n",
              "  position: absolute;\n",
              "  width: 1px;\n",
              "}\n",
              "\n",
              "#sk-container-id-2 div.sk-dashed-wrapped {\n",
              "  border: 1px dashed var(--sklearn-color-line);\n",
              "  margin: 0 0.4em 0.5em 0.4em;\n",
              "  box-sizing: border-box;\n",
              "  padding-bottom: 0.4em;\n",
              "  background-color: var(--sklearn-color-background);\n",
              "}\n",
              "\n",
              "#sk-container-id-2 div.sk-container {\n",
              "  /* jupyter's `normalize.less` sets `[hidden] { display: none; }`\n",
              "     but bootstrap.min.css set `[hidden] { display: none !important; }`\n",
              "     so we also need the `!important` here to be able to override the\n",
              "     default hidden behavior on the sphinx rendered scikit-learn.org.\n",
              "     See: https://github.com/scikit-learn/scikit-learn/issues/21755 */\n",
              "  display: inline-block !important;\n",
              "  position: relative;\n",
              "}\n",
              "\n",
              "#sk-container-id-2 div.sk-text-repr-fallback {\n",
              "  display: none;\n",
              "}\n",
              "\n",
              "div.sk-parallel-item,\n",
              "div.sk-serial,\n",
              "div.sk-item {\n",
              "  /* draw centered vertical line to link estimators */\n",
              "  background-image: linear-gradient(var(--sklearn-color-text-on-default-background), var(--sklearn-color-text-on-default-background));\n",
              "  background-size: 2px 100%;\n",
              "  background-repeat: no-repeat;\n",
              "  background-position: center center;\n",
              "}\n",
              "\n",
              "/* Parallel-specific style estimator block */\n",
              "\n",
              "#sk-container-id-2 div.sk-parallel-item::after {\n",
              "  content: \"\";\n",
              "  width: 100%;\n",
              "  border-bottom: 2px solid var(--sklearn-color-text-on-default-background);\n",
              "  flex-grow: 1;\n",
              "}\n",
              "\n",
              "#sk-container-id-2 div.sk-parallel {\n",
              "  display: flex;\n",
              "  align-items: stretch;\n",
              "  justify-content: center;\n",
              "  background-color: var(--sklearn-color-background);\n",
              "  position: relative;\n",
              "}\n",
              "\n",
              "#sk-container-id-2 div.sk-parallel-item {\n",
              "  display: flex;\n",
              "  flex-direction: column;\n",
              "}\n",
              "\n",
              "#sk-container-id-2 div.sk-parallel-item:first-child::after {\n",
              "  align-self: flex-end;\n",
              "  width: 50%;\n",
              "}\n",
              "\n",
              "#sk-container-id-2 div.sk-parallel-item:last-child::after {\n",
              "  align-self: flex-start;\n",
              "  width: 50%;\n",
              "}\n",
              "\n",
              "#sk-container-id-2 div.sk-parallel-item:only-child::after {\n",
              "  width: 0;\n",
              "}\n",
              "\n",
              "/* Serial-specific style estimator block */\n",
              "\n",
              "#sk-container-id-2 div.sk-serial {\n",
              "  display: flex;\n",
              "  flex-direction: column;\n",
              "  align-items: center;\n",
              "  background-color: var(--sklearn-color-background);\n",
              "  padding-right: 1em;\n",
              "  padding-left: 1em;\n",
              "}\n",
              "\n",
              "\n",
              "/* Toggleable style: style used for estimator/Pipeline/ColumnTransformer box that is\n",
              "clickable and can be expanded/collapsed.\n",
              "- Pipeline and ColumnTransformer use this feature and define the default style\n",
              "- Estimators will overwrite some part of the style using the `sk-estimator` class\n",
              "*/\n",
              "\n",
              "/* Pipeline and ColumnTransformer style (default) */\n",
              "\n",
              "#sk-container-id-2 div.sk-toggleable {\n",
              "  /* Default theme specific background. It is overwritten whether we have a\n",
              "  specific estimator or a Pipeline/ColumnTransformer */\n",
              "  background-color: var(--sklearn-color-background);\n",
              "}\n",
              "\n",
              "/* Toggleable label */\n",
              "#sk-container-id-2 label.sk-toggleable__label {\n",
              "  cursor: pointer;\n",
              "  display: flex;\n",
              "  width: 100%;\n",
              "  margin-bottom: 0;\n",
              "  padding: 0.5em;\n",
              "  box-sizing: border-box;\n",
              "  text-align: center;\n",
              "  align-items: start;\n",
              "  justify-content: space-between;\n",
              "  gap: 0.5em;\n",
              "}\n",
              "\n",
              "#sk-container-id-2 label.sk-toggleable__label .caption {\n",
              "  font-size: 0.6rem;\n",
              "  font-weight: lighter;\n",
              "  color: var(--sklearn-color-text-muted);\n",
              "}\n",
              "\n",
              "#sk-container-id-2 label.sk-toggleable__label-arrow:before {\n",
              "  /* Arrow on the left of the label */\n",
              "  content: \"▸\";\n",
              "  float: left;\n",
              "  margin-right: 0.25em;\n",
              "  color: var(--sklearn-color-icon);\n",
              "}\n",
              "\n",
              "#sk-container-id-2 label.sk-toggleable__label-arrow:hover:before {\n",
              "  color: var(--sklearn-color-text);\n",
              "}\n",
              "\n",
              "/* Toggleable content - dropdown */\n",
              "\n",
              "#sk-container-id-2 div.sk-toggleable__content {\n",
              "  max-height: 0;\n",
              "  max-width: 0;\n",
              "  overflow: hidden;\n",
              "  text-align: left;\n",
              "  /* unfitted */\n",
              "  background-color: var(--sklearn-color-unfitted-level-0);\n",
              "}\n",
              "\n",
              "#sk-container-id-2 div.sk-toggleable__content.fitted {\n",
              "  /* fitted */\n",
              "  background-color: var(--sklearn-color-fitted-level-0);\n",
              "}\n",
              "\n",
              "#sk-container-id-2 div.sk-toggleable__content pre {\n",
              "  margin: 0.2em;\n",
              "  border-radius: 0.25em;\n",
              "  color: var(--sklearn-color-text);\n",
              "  /* unfitted */\n",
              "  background-color: var(--sklearn-color-unfitted-level-0);\n",
              "}\n",
              "\n",
              "#sk-container-id-2 div.sk-toggleable__content.fitted pre {\n",
              "  /* unfitted */\n",
              "  background-color: var(--sklearn-color-fitted-level-0);\n",
              "}\n",
              "\n",
              "#sk-container-id-2 input.sk-toggleable__control:checked~div.sk-toggleable__content {\n",
              "  /* Expand drop-down */\n",
              "  max-height: 200px;\n",
              "  max-width: 100%;\n",
              "  overflow: auto;\n",
              "}\n",
              "\n",
              "#sk-container-id-2 input.sk-toggleable__control:checked~label.sk-toggleable__label-arrow:before {\n",
              "  content: \"▾\";\n",
              "}\n",
              "\n",
              "/* Pipeline/ColumnTransformer-specific style */\n",
              "\n",
              "#sk-container-id-2 div.sk-label input.sk-toggleable__control:checked~label.sk-toggleable__label {\n",
              "  color: var(--sklearn-color-text);\n",
              "  background-color: var(--sklearn-color-unfitted-level-2);\n",
              "}\n",
              "\n",
              "#sk-container-id-2 div.sk-label.fitted input.sk-toggleable__control:checked~label.sk-toggleable__label {\n",
              "  background-color: var(--sklearn-color-fitted-level-2);\n",
              "}\n",
              "\n",
              "/* Estimator-specific style */\n",
              "\n",
              "/* Colorize estimator box */\n",
              "#sk-container-id-2 div.sk-estimator input.sk-toggleable__control:checked~label.sk-toggleable__label {\n",
              "  /* unfitted */\n",
              "  background-color: var(--sklearn-color-unfitted-level-2);\n",
              "}\n",
              "\n",
              "#sk-container-id-2 div.sk-estimator.fitted input.sk-toggleable__control:checked~label.sk-toggleable__label {\n",
              "  /* fitted */\n",
              "  background-color: var(--sklearn-color-fitted-level-2);\n",
              "}\n",
              "\n",
              "#sk-container-id-2 div.sk-label label.sk-toggleable__label,\n",
              "#sk-container-id-2 div.sk-label label {\n",
              "  /* The background is the default theme color */\n",
              "  color: var(--sklearn-color-text-on-default-background);\n",
              "}\n",
              "\n",
              "/* On hover, darken the color of the background */\n",
              "#sk-container-id-2 div.sk-label:hover label.sk-toggleable__label {\n",
              "  color: var(--sklearn-color-text);\n",
              "  background-color: var(--sklearn-color-unfitted-level-2);\n",
              "}\n",
              "\n",
              "/* Label box, darken color on hover, fitted */\n",
              "#sk-container-id-2 div.sk-label.fitted:hover label.sk-toggleable__label.fitted {\n",
              "  color: var(--sklearn-color-text);\n",
              "  background-color: var(--sklearn-color-fitted-level-2);\n",
              "}\n",
              "\n",
              "/* Estimator label */\n",
              "\n",
              "#sk-container-id-2 div.sk-label label {\n",
              "  font-family: monospace;\n",
              "  font-weight: bold;\n",
              "  display: inline-block;\n",
              "  line-height: 1.2em;\n",
              "}\n",
              "\n",
              "#sk-container-id-2 div.sk-label-container {\n",
              "  text-align: center;\n",
              "}\n",
              "\n",
              "/* Estimator-specific */\n",
              "#sk-container-id-2 div.sk-estimator {\n",
              "  font-family: monospace;\n",
              "  border: 1px dotted var(--sklearn-color-border-box);\n",
              "  border-radius: 0.25em;\n",
              "  box-sizing: border-box;\n",
              "  margin-bottom: 0.5em;\n",
              "  /* unfitted */\n",
              "  background-color: var(--sklearn-color-unfitted-level-0);\n",
              "}\n",
              "\n",
              "#sk-container-id-2 div.sk-estimator.fitted {\n",
              "  /* fitted */\n",
              "  background-color: var(--sklearn-color-fitted-level-0);\n",
              "}\n",
              "\n",
              "/* on hover */\n",
              "#sk-container-id-2 div.sk-estimator:hover {\n",
              "  /* unfitted */\n",
              "  background-color: var(--sklearn-color-unfitted-level-2);\n",
              "}\n",
              "\n",
              "#sk-container-id-2 div.sk-estimator.fitted:hover {\n",
              "  /* fitted */\n",
              "  background-color: var(--sklearn-color-fitted-level-2);\n",
              "}\n",
              "\n",
              "/* Specification for estimator info (e.g. \"i\" and \"?\") */\n",
              "\n",
              "/* Common style for \"i\" and \"?\" */\n",
              "\n",
              ".sk-estimator-doc-link,\n",
              "a:link.sk-estimator-doc-link,\n",
              "a:visited.sk-estimator-doc-link {\n",
              "  float: right;\n",
              "  font-size: smaller;\n",
              "  line-height: 1em;\n",
              "  font-family: monospace;\n",
              "  background-color: var(--sklearn-color-background);\n",
              "  border-radius: 1em;\n",
              "  height: 1em;\n",
              "  width: 1em;\n",
              "  text-decoration: none !important;\n",
              "  margin-left: 0.5em;\n",
              "  text-align: center;\n",
              "  /* unfitted */\n",
              "  border: var(--sklearn-color-unfitted-level-1) 1pt solid;\n",
              "  color: var(--sklearn-color-unfitted-level-1);\n",
              "}\n",
              "\n",
              ".sk-estimator-doc-link.fitted,\n",
              "a:link.sk-estimator-doc-link.fitted,\n",
              "a:visited.sk-estimator-doc-link.fitted {\n",
              "  /* fitted */\n",
              "  border: var(--sklearn-color-fitted-level-1) 1pt solid;\n",
              "  color: var(--sklearn-color-fitted-level-1);\n",
              "}\n",
              "\n",
              "/* On hover */\n",
              "div.sk-estimator:hover .sk-estimator-doc-link:hover,\n",
              ".sk-estimator-doc-link:hover,\n",
              "div.sk-label-container:hover .sk-estimator-doc-link:hover,\n",
              ".sk-estimator-doc-link:hover {\n",
              "  /* unfitted */\n",
              "  background-color: var(--sklearn-color-unfitted-level-3);\n",
              "  color: var(--sklearn-color-background);\n",
              "  text-decoration: none;\n",
              "}\n",
              "\n",
              "div.sk-estimator.fitted:hover .sk-estimator-doc-link.fitted:hover,\n",
              ".sk-estimator-doc-link.fitted:hover,\n",
              "div.sk-label-container:hover .sk-estimator-doc-link.fitted:hover,\n",
              ".sk-estimator-doc-link.fitted:hover {\n",
              "  /* fitted */\n",
              "  background-color: var(--sklearn-color-fitted-level-3);\n",
              "  color: var(--sklearn-color-background);\n",
              "  text-decoration: none;\n",
              "}\n",
              "\n",
              "/* Span, style for the box shown on hovering the info icon */\n",
              ".sk-estimator-doc-link span {\n",
              "  display: none;\n",
              "  z-index: 9999;\n",
              "  position: relative;\n",
              "  font-weight: normal;\n",
              "  right: .2ex;\n",
              "  padding: .5ex;\n",
              "  margin: .5ex;\n",
              "  width: min-content;\n",
              "  min-width: 20ex;\n",
              "  max-width: 50ex;\n",
              "  color: var(--sklearn-color-text);\n",
              "  box-shadow: 2pt 2pt 4pt #999;\n",
              "  /* unfitted */\n",
              "  background: var(--sklearn-color-unfitted-level-0);\n",
              "  border: .5pt solid var(--sklearn-color-unfitted-level-3);\n",
              "}\n",
              "\n",
              ".sk-estimator-doc-link.fitted span {\n",
              "  /* fitted */\n",
              "  background: var(--sklearn-color-fitted-level-0);\n",
              "  border: var(--sklearn-color-fitted-level-3);\n",
              "}\n",
              "\n",
              ".sk-estimator-doc-link:hover span {\n",
              "  display: block;\n",
              "}\n",
              "\n",
              "/* \"?\"-specific style due to the `<a>` HTML tag */\n",
              "\n",
              "#sk-container-id-2 a.estimator_doc_link {\n",
              "  float: right;\n",
              "  font-size: 1rem;\n",
              "  line-height: 1em;\n",
              "  font-family: monospace;\n",
              "  background-color: var(--sklearn-color-background);\n",
              "  border-radius: 1rem;\n",
              "  height: 1rem;\n",
              "  width: 1rem;\n",
              "  text-decoration: none;\n",
              "  /* unfitted */\n",
              "  color: var(--sklearn-color-unfitted-level-1);\n",
              "  border: var(--sklearn-color-unfitted-level-1) 1pt solid;\n",
              "}\n",
              "\n",
              "#sk-container-id-2 a.estimator_doc_link.fitted {\n",
              "  /* fitted */\n",
              "  border: var(--sklearn-color-fitted-level-1) 1pt solid;\n",
              "  color: var(--sklearn-color-fitted-level-1);\n",
              "}\n",
              "\n",
              "/* On hover */\n",
              "#sk-container-id-2 a.estimator_doc_link:hover {\n",
              "  /* unfitted */\n",
              "  background-color: var(--sklearn-color-unfitted-level-3);\n",
              "  color: var(--sklearn-color-background);\n",
              "  text-decoration: none;\n",
              "}\n",
              "\n",
              "#sk-container-id-2 a.estimator_doc_link.fitted:hover {\n",
              "  /* fitted */\n",
              "  background-color: var(--sklearn-color-fitted-level-3);\n",
              "}\n",
              "</style><div id=\"sk-container-id-2\" class=\"sk-top-container\"><div class=\"sk-text-repr-fallback\"><pre>LogisticRegression(max_iter=1200, random_state=42)</pre><b>In a Jupyter environment, please rerun this cell to show the HTML representation or trust the notebook. <br />On GitHub, the HTML representation is unable to render, please try loading this page with nbviewer.org.</b></div><div class=\"sk-container\" hidden><div class=\"sk-item\"><div class=\"sk-estimator fitted sk-toggleable\"><input class=\"sk-toggleable__control sk-hidden--visually\" id=\"sk-estimator-id-2\" type=\"checkbox\" checked><label for=\"sk-estimator-id-2\" class=\"sk-toggleable__label fitted sk-toggleable__label-arrow\"><div><div>LogisticRegression</div></div><div><a class=\"sk-estimator-doc-link fitted\" rel=\"noreferrer\" target=\"_blank\" href=\"https://scikit-learn.org/1.6/modules/generated/sklearn.linear_model.LogisticRegression.html\">?<span>Documentation for LogisticRegression</span></a><span class=\"sk-estimator-doc-link fitted\">i<span>Fitted</span></span></div></label><div class=\"sk-toggleable__content fitted\"><pre>LogisticRegression(max_iter=1200, random_state=42)</pre></div> </div></div></div></div>"
            ]
          },
          "metadata": {},
          "execution_count": 31
        }
      ]
    },
    {
      "cell_type": "code",
      "source": [
        "y_pred_pca = logreg_pca.predict(X_test_pca)"
      ],
      "metadata": {
        "id": "LMkYvn7ic5rV"
      },
      "execution_count": 32,
      "outputs": []
    },
    {
      "cell_type": "code",
      "source": [
        "accuracy_with_pca = accuracy_score(y_test, y_pred_pca)\n",
        "print(f\"Accuracy with PCA: {accuracy_with_pca:.4f}\")"
      ],
      "metadata": {
        "colab": {
          "base_uri": "https://localhost:8080/"
        },
        "id": "2P60_H46dDqG",
        "outputId": "d2803d02-18d8-4030-df9e-ee21aa9600ee"
      },
      "execution_count": 25,
      "outputs": [
        {
          "output_type": "stream",
          "name": "stdout",
          "text": [
            "Accuracy with PCA: 0.6921\n"
          ]
        }
      ]
    },
    {
      "cell_type": "markdown",
      "source": [
        "##**Without PCA**"
      ],
      "metadata": {
        "id": "W8KePtHeefC6"
      }
    },
    {
      "cell_type": "code",
      "source": [
        "\n",
        "from sklearn.linear_model import LogisticRegression\n",
        "from sklearn.metrics import accuracy_score\n",
        "\n",
        "# Train logistic regression without PCA\n",
        "logreg = LogisticRegression(max_iter=1000, random_state=42)\n",
        "logreg.fit(X_train_scaled, y_train)\n",
        "\n",
        "# Evaluate on the test set\n",
        "y_pred = logreg.predict(X_test_scaled)\n",
        "accuracy_without_pca = accuracy_score(y_test, y_pred)\n",
        "print(f\"Accuracy without PCA: {accuracy_without_pca:.4f}\")"
      ],
      "metadata": {
        "colab": {
          "base_uri": "https://localhost:8080/"
        },
        "id": "dAyw1bxXeGL7",
        "outputId": "e1e14aed-3a0b-4cf9-9e82-04136054d621"
      },
      "execution_count": 26,
      "outputs": [
        {
          "output_type": "stream",
          "name": "stdout",
          "text": [
            "Accuracy without PCA: 0.6575\n"
          ]
        }
      ]
    },
    {
      "cell_type": "code",
      "source": [
        "print(f\"Accuracy without PCA: {accuracy_without_pca:.4f}\")\n",
        "print(f\"Accuracy with PCA: {accuracy_with_pca:.4f}\")"
      ],
      "metadata": {
        "colab": {
          "base_uri": "https://localhost:8080/"
        },
        "id": "KhjrL_moej_5",
        "outputId": "0a5dada6-bd3c-4180-c80f-9405adc902c4"
      },
      "execution_count": 33,
      "outputs": [
        {
          "output_type": "stream",
          "name": "stdout",
          "text": [
            "Accuracy without PCA: 0.6575\n",
            "Accuracy with PCA: 0.6921\n"
          ]
        }
      ]
    },
    {
      "cell_type": "code",
      "source": [
        "# Try different numbers of components\n",
        "for n in [10, 50, 100, 200]:\n",
        "    pca = PCA(n_components=n, random_state=42)\n",
        "    pca.fit(X_train_scaled)\n",
        "    print(f\"Components: {n}, Explained Variance: {sum(pca.explained_variance_ratio_):.4f}\")"
      ],
      "metadata": {
        "colab": {
          "base_uri": "https://localhost:8080/"
        },
        "id": "jnqNiBQogalc",
        "outputId": "919865a0-866a-49ec-cfdd-2d2139e36277"
      },
      "execution_count": 34,
      "outputs": [
        {
          "output_type": "stream",
          "name": "stdout",
          "text": [
            "Components: 10, Explained Variance: 0.3178\n",
            "Components: 50, Explained Variance: 0.6680\n",
            "Components: 100, Explained Variance: 0.8240\n",
            "Components: 200, Explained Variance: 0.9378\n"
          ]
        }
      ]
    },
    {
      "cell_type": "markdown",
      "source": [
        "![image.png](data:image/png;base64,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)"
      ],
      "metadata": {
        "id": "Lh_XFOXPiYJe"
      }
    },
    {
      "cell_type": "markdown",
      "source": [
        "![image.png](data:image/png;base64,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)"
      ],
      "metadata": {
        "id": "kvhfTQEni2Gb"
      }
    },
    {
      "cell_type": "code",
      "source": [],
      "metadata": {
        "id": "X8xK7fyJh9Fh"
      },
      "execution_count": null,
      "outputs": []
    }
  ]
}